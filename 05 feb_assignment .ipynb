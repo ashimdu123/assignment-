{
 "cells": [
  {
   "cell_type": "markdown",
   "id": "e35bcbda",
   "metadata": {},
   "source": [
    "# Problem 1:\n",
    "A Class in Object-Oriented Programming is a logical grouping of data and functions. A class contains the blueprints or the prototype from which the objects are being created. It is a logical entity that contains some attributes and methods. \n",
    "\n",
    "An object Object-Oriented Programming is an entity that has a state and behavior associated with it. For example any single integer or any single string is an object."
   ]
  },
  {
   "cell_type": "code",
   "execution_count": 26,
   "id": "40c32a27",
   "metadata": {},
   "outputs": [
    {
     "name": "stdout",
     "output_type": "stream",
     "text": [
      "This is nice color.\n"
     ]
    }
   ],
   "source": [
    "# Here is an explample of Class and Object:\n",
    "class test_class():\n",
    "    def color(self):\n",
    "        print('This is nice color.')\n",
    "# Here we have defined a class named test_class.\n",
    "# Now we define an object a1 as follows\n",
    "a1 = test_class()\n",
    "a1.color()"
   ]
  },
  {
   "cell_type": "markdown",
   "id": "37d0d9d7",
   "metadata": {},
   "source": [
    "# Problem 2:\n",
    "The four pillers of OOPs are\n",
    "* Encapsulation\n",
    "* Inheritance\n",
    "* Polymorphism\n",
    "* Abstraction"
   ]
  },
  {
   "cell_type": "markdown",
   "id": "b57bbda1",
   "metadata": {},
   "source": [
    "# Problem 3:\n",
    "The \\_\\_init\\_\\_() function is used to assign values to object properties, or other operations that are necessary to do when the object is being created."
   ]
  },
  {
   "cell_type": "code",
   "execution_count": 43,
   "id": "b6c8dec5",
   "metadata": {},
   "outputs": [
    {
     "name": "stdout",
     "output_type": "stream",
     "text": [
      "Aju Delhi\n"
     ]
    }
   ],
   "source": [
    "# Example of __init__\n",
    "class test_name:\n",
    "    def __init__(self, name, location):\n",
    "        self.name = name\n",
    "        self.location = location\n",
    "p1 = test_name(\"Aju\", 'Delhi')\n",
    "\n",
    "print(p1.name, p1.location)"
   ]
  },
  {
   "cell_type": "markdown",
   "id": "44d6aca3",
   "metadata": {},
   "source": [
    "# Problem 4:\n",
    "The 'self' parameter represents the instance of the class. By using the 'self'  we can access the attributes and methods of the class in python. It binds the attributes with the given arguments."
   ]
  },
  {
   "cell_type": "markdown",
   "id": "60ce2575",
   "metadata": {},
   "source": [
    "# Problem 5:\n",
    "The method of inheriting the properties of parent class into a child class in OOPs is known as inheritance. There are five types of inheritances. Those are\n",
    "* Single Inheritance\n",
    "* Multiple Inheritance\n",
    "* Multilevel Inheritance\n",
    "* Hierarchical Inheritance\n",
    "* Hybrid Inheritance"
   ]
  },
  {
   "cell_type": "code",
   "execution_count": 9,
   "id": "6d6b9cd3",
   "metadata": {},
   "outputs": [
    {
     "name": "stdout",
     "output_type": "stream",
     "text": [
      "Name of the persion is Aju\n",
      "Age of the person is 25\n"
     ]
    }
   ],
   "source": [
    "# 1) Example of Single Inheritance\n",
    "class person:\n",
    "    def person_name(self, person_name):\n",
    "        print(f\"Name of the persion is {person_name}\")\n",
    "    \n",
    "class age(person):\n",
    "    def person_age(self, person_age):\n",
    "        print(f\"Age of the person is {person_age}\")\n",
    "\n",
    "obj = age()\n",
    "obj.person_name('Aju')\n",
    "obj.person_age(25)"
   ]
  },
  {
   "cell_type": "code",
   "execution_count": 13,
   "id": "bc7ea45a",
   "metadata": {},
   "outputs": [
    {
     "name": "stdout",
     "output_type": "stream",
     "text": [
      "Name of the persion is Aju\n",
      "Age of the person is 25\n",
      "Location of the persion is Delhi\n"
     ]
    }
   ],
   "source": [
    "# 2) Example of Multiple Inheritance\n",
    "class person:\n",
    "    def person_name(self, person_name):\n",
    "        print(f\"Name of the persion is {person_name}\")\n",
    "    \n",
    "class age:\n",
    "    def person_age(self, person_age):\n",
    "        print(f\"Age of the person is {person_age}\")\n",
    "        \n",
    "class location(person, age):\n",
    "    def person_location(self, persion_location):\n",
    "        print(f\"Location of the persion is {persion_location}\")\n",
    "\n",
    "obj = location()\n",
    "obj.person_name('Aju')\n",
    "obj.person_age(25)\n",
    "obj.person_location('Delhi')"
   ]
  },
  {
   "cell_type": "code",
   "execution_count": 16,
   "id": "555d3703",
   "metadata": {},
   "outputs": [
    {
     "name": "stdout",
     "output_type": "stream",
     "text": [
      "Name of the persion is Aju\n",
      "Age of the person is 25\n",
      "Location of the persion is Delhi\n"
     ]
    }
   ],
   "source": [
    "# 3) Example of Multilevel Inheritance\n",
    "class person:\n",
    "    def person_name(self, person_name):\n",
    "        print(f\"Name of the persion is {person_name}\")\n",
    "    \n",
    "class age(person):\n",
    "    def person_age(self, person_age):\n",
    "        print(f\"Age of the person is {person_age}\")\n",
    "        \n",
    "class location(age):\n",
    "    def person_location(self, persion_location):\n",
    "        print(f\"Location of the persion is {persion_location}\")\n",
    "\n",
    "obj = location()\n",
    "obj.person_name('Aju')\n",
    "obj.person_age(25)\n",
    "obj.person_location('Delhi')"
   ]
  },
  {
   "cell_type": "code",
   "execution_count": 26,
   "id": "e53a4877",
   "metadata": {},
   "outputs": [
    {
     "name": "stdout",
     "output_type": "stream",
     "text": [
      "This is PW company\n",
      "Name of the persion is Aju\n",
      "This is PW company\n",
      "Age of the person is 25\n",
      "This is PW company\n",
      "Location of the persion is Delhi\n"
     ]
    }
   ],
   "source": [
    "# 4) Example of Hierarchical Inheritance.\n",
    "class company:\n",
    "    def company_name(self):\n",
    "        print(\"This is PW company\")\n",
    "class person(company):\n",
    "    def person_name(self, person_name):\n",
    "        print(f\"Name of the persion is {person_name}\")\n",
    "    \n",
    "class age(company):\n",
    "    def person_age(self, person_age):\n",
    "        print(f\"Age of the person is {person_age}\")\n",
    "        \n",
    "class location(company):\n",
    "    def person_location(self, persion_location):\n",
    "        print(f\"Location of the persion is {persion_location}\")\n",
    "\n",
    "obj1 = person()\n",
    "obj2 = age()\n",
    "obj3 = location()\n",
    "\n",
    "obj1.company_name()\n",
    "obj1.person_name('Aju')\n",
    "obj2.company_name()\n",
    "obj2.person_age(25)\n",
    "obj3.company_name()\n",
    "obj3.person_location(\"Delhi\")"
   ]
  },
  {
   "cell_type": "code",
   "execution_count": 5,
   "id": "d454306e",
   "metadata": {},
   "outputs": [
    {
     "name": "stdout",
     "output_type": "stream",
     "text": [
      "This is PW company\n",
      "Name of the persion is Aju\n"
     ]
    }
   ],
   "source": [
    "# 5) Example of Hybrid Inheritance\n",
    "class company:\n",
    "    def company_name(self):\n",
    "        print(\"This is PW company\")\n",
    "class person(company):\n",
    "    def person_name(self, person_name):\n",
    "        print(f\"Name of the persion is {person_name}\")\n",
    "    \n",
    "class age(company):\n",
    "    def person_age(self, person_age):\n",
    "        print(f\"Age of the person is {person_age}\")\n",
    "        \n",
    "class location(person, age):\n",
    "    def person_location(self, persion_location):\n",
    "        print(f\"Location of the persion is {persion_location}\")\n",
    "        \n",
    "obj1 = location()\n",
    "obj1.company_name()\n",
    "obj1.person_name(\"Aju\")"
   ]
  },
  {
   "cell_type": "code",
   "execution_count": null,
   "id": "99675b2c",
   "metadata": {},
   "outputs": [],
   "source": []
  }
 ],
 "metadata": {
  "kernelspec": {
   "display_name": "Python 3 (ipykernel)",
   "language": "python",
   "name": "python3"
  },
  "language_info": {
   "codemirror_mode": {
    "name": "ipython",
    "version": 3
   },
   "file_extension": ".py",
   "mimetype": "text/x-python",
   "name": "python",
   "nbconvert_exporter": "python",
   "pygments_lexer": "ipython3",
   "version": "3.9.13"
  }
 },
 "nbformat": 4,
 "nbformat_minor": 5
}
