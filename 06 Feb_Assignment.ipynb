{
 "cells": [
  {
   "cell_type": "markdown",
   "id": "2fed4279",
   "metadata": {},
   "source": [
    "# Problem 1:"
   ]
  },
  {
   "cell_type": "code",
   "execution_count": 71,
   "id": "ce00abb5",
   "metadata": {},
   "outputs": [],
   "source": [
    "from functools import reduce"
   ]
  },
  {
   "cell_type": "code",
   "execution_count": 81,
   "id": "03da4917",
   "metadata": {},
   "outputs": [],
   "source": [
    "def product_of_numbers(lst):\n",
    "    final_lst = []\n",
    "    for i in lst:\n",
    "        #print(type(i))\n",
    "        if type(i) == int or type(i) == float:\n",
    "            final_lst.append(i)\n",
    "        elif type(i) == list or type(i) == tuple or type(i) == set :\n",
    "            for j in i:\n",
    "                if type(j) == int or type(j) == float:\n",
    "                    final_lst.append(j)\n",
    "        elif type(i) == dict:\n",
    "            for k in i.keys():\n",
    "                if type(k) == int or type(k) == float:\n",
    "                    final_lst.append(k)\n",
    "                elif type(k) == list or type(k) == tuple or type(k) == set :\n",
    "                    for l in k:\n",
    "                        if type(l) == int or type(l) == float:\n",
    "                            final_lst.append(l)\n",
    "            for k in i.values():\n",
    "                if type(k) == int or type(k) == float:\n",
    "                    final_lst.append(k)\n",
    "                elif type(k) == list or type(k) == tuple or type(k) == set :\n",
    "                    for l in k:\n",
    "                        if type(l) == int or type(l) == float:\n",
    "                            final_lst.append(l)\n",
    "    \n",
    "    \n",
    "        \n",
    "    \n",
    "    product = reduce(lambda x, y: x * y, final_lst)\n",
    "    return final_lst, product\n"
   ]
  },
  {
   "cell_type": "code",
   "execution_count": 86,
   "id": "004fe4e0",
   "metadata": {},
   "outputs": [
    {
     "name": "stdout",
     "output_type": "stream",
     "text": [
      "List of all the number is [1, 2, 3, 4, 44, 55, 66, 34, 56, 78, 89, 34, 1, 2, 3, 1, 4, 34, 55, 67, 78, 89, 45, 22, 61, 34, 56] \n",
      "The product of all the numbers in it = 4134711838987085478833841242112000\n"
     ]
    }
   ],
   "source": [
    "list1 = [1,2,3,4, [44,55,66, True], False, (34,56,78,89,34), {1,2,3,3,2,1}, {1:34, \"key2\": [55, 67, 78, 89], 4: (45, \n",
    "22, 61, 34)}, [56, 'data science'], 'Machine Learning']\n",
    "\n",
    "result = product_of_numbers(list1)\n",
    "print(f\"List of all the number is {result[0]} \")\n",
    "print(f\"The product of all the numbers in it = {result[1]}\")"
   ]
  },
  {
   "cell_type": "markdown",
   "id": "0a5019ce",
   "metadata": {},
   "source": [
    "# Problem 2:"
   ]
  },
  {
   "cell_type": "code",
   "execution_count": 174,
   "id": "d82d486a",
   "metadata": {},
   "outputs": [],
   "source": [
    "def encrypting(string):\n",
    "    alphabet = []\n",
    "    for i in range(26):\n",
    "        alphabet.append(chr(i + 97))\n",
    "    string = string.lower()        \n",
    "    final_string = ''\n",
    "    for i in string:\n",
    "        if (i in alphabet ):\n",
    "            final_string  = final_string + alphabet[25 - alphabet.index(i) ]\n",
    "        elif i == ' ':\n",
    "            final_string  = final_string + '$'\n",
    "        else:\n",
    "            final_string  = final_string + i\n",
    "    return final_string"
   ]
  },
  {
   "cell_type": "code",
   "execution_count": 176,
   "id": "db1af5a4",
   "metadata": {},
   "outputs": [
    {
     "data": {
      "text/plain": [
       "'r$dzmg$gl$yvxlnv$z$wzgz$hxrvmgrhg.'"
      ]
     },
     "execution_count": 176,
     "metadata": {},
     "output_type": "execute_result"
    }
   ],
   "source": [
    "# encrypted msg will be\n",
    "encrypting('I want to become a Data Scientist.')"
   ]
  },
  {
   "cell_type": "code",
   "execution_count": null,
   "id": "e05baa7c",
   "metadata": {},
   "outputs": [],
   "source": []
  }
 ],
 "metadata": {
  "kernelspec": {
   "display_name": "Python 3 (ipykernel)",
   "language": "python",
   "name": "python3"
  },
  "language_info": {
   "codemirror_mode": {
    "name": "ipython",
    "version": 3
   },
   "file_extension": ".py",
   "mimetype": "text/x-python",
   "name": "python",
   "nbconvert_exporter": "python",
   "pygments_lexer": "ipython3",
   "version": "3.9.13"
  }
 },
 "nbformat": 4,
 "nbformat_minor": 5
}
