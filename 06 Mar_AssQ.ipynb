{
 "cells": [
  {
   "cell_type": "markdown",
   "id": "c843a011",
   "metadata": {},
   "source": [
    "# Question 1:"
   ]
  },
  {
   "cell_type": "markdown",
   "id": "f927e188",
   "metadata": {},
   "source": [
    "Statistics is a branch of mathematical science where we study the collection, analysis, interpretation, presentation and organization of data.\n"
   ]
  },
  {
   "cell_type": "markdown",
   "id": "b560876b",
   "metadata": {},
   "source": [
    "# Question 2:"
   ]
  },
  {
   "cell_type": "markdown",
   "id": "947c09ec",
   "metadata": {},
   "source": [
    "There are mainly two types of statistics. One is **Descriptive Statistics** and other one is **Influential Statistics**. \n",
    "\n",
    "* **Descriptive Statistics:** Descriptive statistics are used to describe the data. They can be used to summarize the data, find patterns, and identify outliers. For example, a descriptive statistic could be used to find the average height of a group of people.\n",
    "<br>\n",
    "<br>\n",
    "* **Inferential Statistics:** Inferential statistics are used to make conclusion about a sample of dataset. They can be used to test hypotheses, make predictions, and determine the significance of results. For example, conducting a survey on a sample of voters to make predictions about the voting behavior of the entire population."
   ]
  },
  {
   "cell_type": "markdown",
   "id": "5e308013",
   "metadata": {},
   "source": [
    "# Question 3:"
   ]
  },
  {
   "cell_type": "markdown",
   "id": "de7951ee",
   "metadata": {},
   "source": [
    "There are mainly two types of data: **quantitative data** and **qualitative data**. The difference between quantitative data and qualitative data is that quantitative data can be measured and expressed in numbers, while qualitative data is descriptive and cannot be measured in numbers.\n",
    "\n",
    "Further quantitative data can be divided into two data types: **discrete** and **continuous** data. And qualitative data can be devided into **nominal** and **ordinal** data. Here are the examples of each datatypes:\n",
    "\n",
    "* **Discrete**: Number of students in the class.\n",
    "* **Continuous**: Average velocity of a vehicle.\n",
    "* **Nominal**: Colour of a Vehicle.\n",
    "* **ordinal**: Rank of students in class in exam result."
   ]
  },
  {
   "cell_type": "markdown",
   "id": "6edf11a3",
   "metadata": {},
   "source": [
    "# Question 4:"
   ]
  },
  {
   "cell_type": "markdown",
   "id": "d8227d27",
   "metadata": {},
   "source": [
    "* Grading in exam: A+, A, B+, B, C+, C, D, E : This is **Ordinal** data.\n",
    "* Colour of mangoes: yellow, green, orange, red : This is **Nominal** data.\n",
    "* Height data of a class: [178.9, 179, 179.5, 176, 177.2, 178.3, 175.8,...] : This is **Continuous** data.\n",
    "* Number of mangoes exported by a farm: [500, 600, 478, 672, ...] : This is **Discrete** data."
   ]
  },
  {
   "cell_type": "markdown",
   "id": "218c0ae0",
   "metadata": {},
   "source": [
    "# Question 5:"
   ]
  },
  {
   "cell_type": "markdown",
   "id": "d457f46c",
   "metadata": {},
   "source": [
    "There are four levels of measurement of data: nominal, ordinal, interval and ratio. They can be defined as below\n",
    "* **Nominal level:** Nominal level data consists of qualitative or categorical variables. For example: Colours of a car.\n",
    "* **Ordinal level:** In this level data points consist of some order or rank, but it does not tell us about the size of the difference between the data points. For example: Grading in exam: A+, A, B+, B, C+, C, D, E . Here we know that A+ is better grade than A but can not tell how much better.\n",
    "* **Interval level:** Interval level data represents numeric or continuous data where we there is rank or order among the data points. Also in addition with this, we can measure the difference between them but ratios or divisions between these data points may not have meaningful interpretation. One important point about this level is that is no starting point as 0 in these data points. For example: Years (2022, 2023, 2024...).\n",
    "* **Ratio level:** Similar to Interval data level, Ratio level data can be measured and ordered but in addition with this we have true zero point or absolute zero. Also, ratio between the data points have proper meaning. For example: Speed of a vehicle."
   ]
  },
  {
   "cell_type": "markdown",
   "id": "01182939",
   "metadata": {},
   "source": [
    "# Question 6:"
   ]
  },
  {
   "cell_type": "markdown",
   "id": "5a0a0cbc",
   "metadata": {},
   "source": [
    "It is important to understand the level of measurement when analyzing data because it determines what kind of statistical methods and techniques can be applied to the data. Different levels of measurement have different properties and imply different types of information about the variables.\n",
    "\n",
    "For better understanding let us consider a situation where we need to analyse the rank obtained by the students in a class. First, the gender variable categorizes students into male and female. We can see that this is the nominal level data, it does not have an inherent order or numerical value. Analyzing the gender variable may involve examining the proportion or frequency of males and females in the sample, but arithmetic operations or meaningful comparisons are not applicable. Next, \n",
    "the rank of students in a class is ordinal level of measurement. This means that the ranks can be ordered from highest to lowest, but the difference between the ranks does not have any meaning."
   ]
  },
  {
   "cell_type": "markdown",
   "id": "96443817",
   "metadata": {},
   "source": [
    "# Question 7:"
   ]
  },
  {
   "cell_type": "markdown",
   "id": "abae327b",
   "metadata": {},
   "source": [
    "The difference between nominal and ordinal data is that nominal data does not have any inherent order, while ordinal data does. For example, the gender male and female are nominal data. There is no inherent order to these categories; they can be arranged in any order. On the other hand, the rankings first, second, and third are ordinal data. There is a clear order to these rankings; first is higher than second, and second is higher than third."
   ]
  },
  {
   "cell_type": "markdown",
   "id": "2de52773",
   "metadata": {},
   "source": [
    "# Question 8:"
   ]
  },
  {
   "cell_type": "markdown",
   "id": "493be5a3",
   "metadata": {},
   "source": [
    "Primarily two types of plots that can be used to display data in terms of range. \n",
    "\n",
    "* Histogram: A histogram is a bar graph that shows the distribution of data. The height of each bar represents the number of data points that fall within a certain range.\n",
    "* Boxplot: A boxplot is a graph that shows the distribution of data, including the median, quartiles, and outliers."
   ]
  },
  {
   "cell_type": "markdown",
   "id": "5e4db5ea",
   "metadata": {},
   "source": [
    "# Question 9 :"
   ]
  },
  {
   "cell_type": "markdown",
   "id": "7cbacfb4",
   "metadata": {},
   "source": [
    "The difference between descriptive statistics and inferential statistics are:\n",
    "*  Descriptive statistics are used to describe the data that we have collected, whereas inferential statistics are used to make inferences about a population based on a sample of the population.\n",
    "\n",
    "*  Descriptive statistics can be used to summarize the data, find patterns in the data, and identify outliers, on the other hand inferential statistics can be used to test hypotheses, make predictions, and estimate the size of an effect.\n",
    "\n",
    "\n",
    "As an example of descriptive statistics let us consider the average test score of a group of students. Descriptive statistics allow us to calculate the mean, median, and mode of the test scores, as well as measures of dispersion such as the range and standard deviation. This would provide a summary of the data and allow us to understand the distribution of test scores more easily.\n",
    "\n",
    "An example of inferential statistics is, using a sample of students to make predictions about the average test score of all students in a school. Inferential statistics would allow us to use techniques such as hypothesis testing and confidence intervals to make generalizations about the larger population based on the sample data."
   ]
  },
  {
   "cell_type": "markdown",
   "id": "eb69f3f1",
   "metadata": {},
   "source": [
    "# Question 10:"
   ]
  },
  {
   "cell_type": "markdown",
   "id": "e104c979",
   "metadata": {},
   "source": [
    "Some of the most common measures of central tendency include:\n",
    "\n",
    "* Mean: The mean is the average of all the values in a data set. It is calculated by adding up all the values in the data set and dividing by the number of values.\n",
    "* Median: The median represents the middle value in a dataset when the values are arranged in ascending or descending order. It divides the dataset into two equal halves.\n",
    "* Mode: The mode represents the value that occurs most frequently in a dataset.\n",
    "\n",
    "Some of the most common measures of variability include:\n",
    "\n",
    "* Range: The range is the difference between the highest and lowest values in a data set.\n",
    "* Variance: The variance is a measure of how spread out the values in a data set are. The variance measures the average squared deviation of each value from the mean.\n",
    "* Standard deviation: The standard deviation is the square root of the variance. It provides a measure of dispersion around the mean."
   ]
  },
  {
   "cell_type": "code",
   "execution_count": null,
   "id": "4e04b744",
   "metadata": {},
   "outputs": [],
   "source": []
  }
 ],
 "metadata": {
  "kernelspec": {
   "display_name": "Python 3 (ipykernel)",
   "language": "python",
   "name": "python3"
  },
  "language_info": {
   "codemirror_mode": {
    "name": "ipython",
    "version": 3
   },
   "file_extension": ".py",
   "mimetype": "text/x-python",
   "name": "python",
   "nbconvert_exporter": "python",
   "pygments_lexer": "ipython3",
   "version": "3.10.9"
  }
 },
 "nbformat": 4,
 "nbformat_minor": 5
}
