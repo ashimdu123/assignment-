{
 "cells": [
  {
   "cell_type": "markdown",
   "id": "aa00d947",
   "metadata": {},
   "source": [
    "# Problem 1:"
   ]
  },
  {
   "cell_type": "code",
   "execution_count": 22,
   "id": "e3885f45",
   "metadata": {},
   "outputs": [],
   "source": [
    "def password_checker(string):\n",
    "    count_len = len(string)\n",
    "    count_upper = len(list(filter(lambda x: x.isupper(), string)))\n",
    "    count_lower = len(list(filter(lambda x: x.islower(), string)))\n",
    "    count_digit = len(list(filter(lambda x: x.isdigit(), string)))\n",
    "    count_symbl = len(list(filter(lambda x: not x.isalnum() and not x.isspace(), string)))\n",
    "    if (count_len >= 10 and count_upper >= 2 and count_lower >= 2 and count_digit >= 1 and count_symbl >= 3):\n",
    "        return 'Valid Password'\n",
    "    else:\n",
    "        return \"Invalid Password\"\n",
    "        "
   ]
  },
  {
   "cell_type": "code",
   "execution_count": 29,
   "id": "10df438d",
   "metadata": {},
   "outputs": [
    {
     "data": {
      "text/plain": [
       "'Invalid Password'"
      ]
     },
     "execution_count": 29,
     "metadata": {},
     "output_type": "execute_result"
    }
   ],
   "source": [
    "password1 = 'aju@111'\n",
    "password_checker(password1)"
   ]
  },
  {
   "cell_type": "code",
   "execution_count": 31,
   "id": "8474cb9d",
   "metadata": {},
   "outputs": [
    {
     "data": {
      "text/plain": [
       "'Valid Password'"
      ]
     },
     "execution_count": 31,
     "metadata": {},
     "output_type": "execute_result"
    }
   ],
   "source": [
    "password1 = 'AJUdelhi#_@111'\n",
    "password_checker(password1)"
   ]
  },
  {
   "cell_type": "markdown",
   "id": "ebc5549c",
   "metadata": {},
   "source": [
    "# Problem 2:"
   ]
  },
  {
   "cell_type": "code",
   "execution_count": 81,
   "id": "5263c7b8",
   "metadata": {},
   "outputs": [
    {
     "name": "stdout",
     "output_type": "stream",
     "text": [
      "True\n"
     ]
    }
   ],
   "source": [
    "# Check if the string starts with a particular letter\n",
    "first_letter_check  = lambda x, letter: x[0] == letter.lower()\n",
    "string = \"Today is monday\"\n",
    "string = string.lower()\n",
    "print(first_letter_check(string, \"t\"))  "
   ]
  },
  {
   "cell_type": "code",
   "execution_count": 59,
   "id": "1fba7087",
   "metadata": {},
   "outputs": [
    {
     "name": "stdout",
     "output_type": "stream",
     "text": [
      "The string is numeric\n"
     ]
    }
   ],
   "source": [
    "# Check if the string is numeric\n",
    "string = \"4.5\"\n",
    "numeric_check = all(i.isdigit() or i == '.' for i in string)\n",
    "\n",
    "if numeric_check and string.count('.') == 1:\n",
    "    print(\"The string is numeric\")\n",
    "else:\n",
    "    print(\"The string is not numeric\")"
   ]
  },
  {
   "cell_type": "code",
   "execution_count": 62,
   "id": "46280daf",
   "metadata": {},
   "outputs": [
    {
     "name": "stdout",
     "output_type": "stream",
     "text": [
      "[('orange', 80), ('mango', 99), ('grapes', 1000)]\n"
     ]
    }
   ],
   "source": [
    "# Sort a list of tuples having fruit names and their quantity. [(\"mango\",99),(\"orange\",80), (\"grapes\", 1000)]\n",
    "\n",
    "lst = [(\"mango\", 99), (\"orange\", 80), (\"grapes\", 1000)]\n",
    "\n",
    "final_lst = sorted(lst, key=lambda x: x[1])\n",
    "\n",
    "print(final_lst)"
   ]
  },
  {
   "cell_type": "code",
   "execution_count": 64,
   "id": "f17a1331",
   "metadata": {},
   "outputs": [
    {
     "name": "stdout",
     "output_type": "stream",
     "text": [
      "1\n",
      "4\n",
      "9\n",
      "16\n",
      "25\n",
      "36\n",
      "49\n",
      "64\n",
      "81\n",
      "100\n"
     ]
    }
   ],
   "source": [
    "# Find the squares of numbers from 1 to 10\n",
    "result = map(lambda x: x**2, range(1, 11))\n",
    "for i in result:\n",
    "    print(i)"
   ]
  },
  {
   "cell_type": "code",
   "execution_count": 65,
   "id": "68277b49",
   "metadata": {},
   "outputs": [
    {
     "name": "stdout",
     "output_type": "stream",
     "text": [
      "1.0\n",
      "1.2599210498948732\n",
      "1.4422495703074083\n",
      "1.5874010519681994\n",
      "1.7099759466766968\n",
      "1.8171205928321397\n",
      "1.912931182772389\n",
      "2.0\n",
      "2.080083823051904\n",
      "2.154434690031884\n"
     ]
    }
   ],
   "source": [
    "# Find the cube root of numbers from 1 to 10\n",
    "result = map(lambda x: x**(1/3), range(1, 11))\n",
    "for i in result:\n",
    "    print(i)"
   ]
  },
  {
   "cell_type": "code",
   "execution_count": 68,
   "id": "e537f92d",
   "metadata": {},
   "outputs": [
    {
     "name": "stdout",
     "output_type": "stream",
     "text": [
      "True\n"
     ]
    }
   ],
   "source": [
    "# Check if a given number is even\n",
    "number = 6\n",
    "even_check = lambda x: x % 2 == 0\n",
    "print(even_check(number))  # True\n"
   ]
  },
  {
   "cell_type": "code",
   "execution_count": 71,
   "id": "8e426473",
   "metadata": {},
   "outputs": [
    {
     "name": "stdout",
     "output_type": "stream",
     "text": [
      "[1, 3, 5, 7, 9]\n"
     ]
    }
   ],
   "source": [
    " # Filter odd numbers from the given list.\n",
    "lst =  [1,2,3,4,5,6,7,8,9,10]\n",
    "result = list(filter(lambda x: x % 2 != 0, lst))\n",
    "print(result)  "
   ]
  },
  {
   "cell_type": "code",
   "execution_count": 73,
   "id": "0dcbb380",
   "metadata": {},
   "outputs": [
    {
     "name": "stdout",
     "output_type": "stream",
     "text": [
      "[1, 2, 3, 4, 5, 6, 0]\n",
      "[-1, -2, -3, -4, -5]\n"
     ]
    }
   ],
   "source": [
    "# Sort a list of integers into positive and negative integers lists.\n",
    "lst = [1,2,3,4,5,6,-1,-2,-3,-4,-5,0]\n",
    "positive_list = list(filter(lambda x: x >=0 , lst))\n",
    "negative_list = list(filter(lambda x: x < 0, lst))\n",
    "print(positive_list)\n",
    "print(negative_list)"
   ]
  },
  {
   "cell_type": "code",
   "execution_count": null,
   "id": "6a8c5d8f",
   "metadata": {},
   "outputs": [],
   "source": []
  }
 ],
 "metadata": {
  "kernelspec": {
   "display_name": "Python 3 (ipykernel)",
   "language": "python",
   "name": "python3"
  },
  "language_info": {
   "codemirror_mode": {
    "name": "ipython",
    "version": 3
   },
   "file_extension": ".py",
   "mimetype": "text/x-python",
   "name": "python",
   "nbconvert_exporter": "python",
   "pygments_lexer": "ipython3",
   "version": "3.9.13"
  }
 },
 "nbformat": 4,
 "nbformat_minor": 5
}
