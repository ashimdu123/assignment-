{
 "cells": [
  {
   "cell_type": "markdown",
   "id": "cee34ba8",
   "metadata": {},
   "source": [
    "# Question 1:"
   ]
  },
  {
   "cell_type": "markdown",
   "id": "2acee596",
   "metadata": {},
   "source": [
    "The three measures of central tendency are:\n",
    "* Mean\n",
    "* Median\n",
    "* Mode"
   ]
  },
  {
   "cell_type": "markdown",
   "id": "0dd2a8f6",
   "metadata": {},
   "source": [
    "# Question 2:"
   ]
  },
  {
   "cell_type": "markdown",
   "id": "b84abcba",
   "metadata": {},
   "source": [
    "The differences between mean, median and mode are:\n",
    "\n",
    "|Sl no| Mean | Median | Mode |\n",
    "| :-: | :- | :- | :- |\n",
    "|1|  The mean is sensitive to outliers. | The median is less affected by outliers because it is based on the middle value rather than the actual values. |  The mode is not affected by outliers since it only considers the frequency of values. |\n",
    "|2|  The mean is commonly used when the dataset follows a symmetrical distribution. | The median is useful when dealing with skewed distributions or when outliers are present. |  The mode is helpful for categorical or discrete data, as well as for identifying the most frequent values in a dataset. |\n",
    "\n",
    "They are used to measure thecentral tendency of a dataset as follows:\n",
    "* **Mean:** The mean is calculated by summing up all the values in a dataset and dividing the sum by the total number of values.\n",
    "* **Median:**  The median is the middle value in a dataset when the values are arranged in ascending or descending order. If the dataset has an odd number of values, the median is the middle value. If the dataset has an even number of values, the median is the average of the two middle values.\n",
    "* **Mode:** The mode is determined by identifying the value that appear most frequently in a dataset."
   ]
  },
  {
   "cell_type": "markdown",
   "id": "b32c4f06",
   "metadata": {},
   "source": [
    "# Question 3:"
   ]
  },
  {
   "cell_type": "code",
   "execution_count": 24,
   "id": "6b7697e4",
   "metadata": {},
   "outputs": [],
   "source": [
    "data = [178,177,176,177,178.2,178,175,179,180,175,178.9,176.2,177,172.5,178,176.5]"
   ]
  },
  {
   "cell_type": "code",
   "execution_count": 2,
   "id": "7d517a7b",
   "metadata": {},
   "outputs": [],
   "source": [
    "import numpy as np \n",
    "import scipy.stats as stats"
   ]
  },
  {
   "cell_type": "code",
   "execution_count": 29,
   "id": "f2a8948e",
   "metadata": {},
   "outputs": [
    {
     "name": "stdout",
     "output_type": "stream",
     "text": [
      "Mean = 177.01875\n",
      "Median = 177.0\n",
      "Mode = 177.0\n"
     ]
    }
   ],
   "source": [
    "mean = np.mean(data)\n",
    "median = np.median(data)\n",
    "mode = stats.mode(data, keepdims = False)\n",
    "print('Mean =', mean)\n",
    "print('Median =', median)\n",
    "print('Mode =', mode.mode)"
   ]
  },
  {
   "cell_type": "markdown",
   "id": "ec427150",
   "metadata": {},
   "source": [
    "# Question 4:"
   ]
  },
  {
   "cell_type": "code",
   "execution_count": 30,
   "id": "a446cbfe",
   "metadata": {},
   "outputs": [],
   "source": [
    "data = [178,177,176,177,178.2,178,175,179,180,175,178.9,176.2,177,172.5,178,176.5]"
   ]
  },
  {
   "cell_type": "code",
   "execution_count": 31,
   "id": "605c3393",
   "metadata": {
    "scrolled": true
   },
   "outputs": [
    {
     "name": "stdout",
     "output_type": "stream",
     "text": [
      "Standard deviation =  1.7885814036548633\n"
     ]
    }
   ],
   "source": [
    "std = np.std(data)\n",
    "print('Standard deviation = ', std)"
   ]
  },
  {
   "cell_type": "markdown",
   "id": "6c144d71",
   "metadata": {},
   "source": [
    "# Question 5:"
   ]
  },
  {
   "cell_type": "markdown",
   "id": "cbd761ed",
   "metadata": {},
   "source": [
    "Measures of dispersion are used to describe the spread of a dataset. They tell us how much variation there is in the data, and how spread out the data is from the mean.\n",
    "\n",
    "**Range:** The range represents the difference between the maximum and minimum values in a dataset. "
   ]
  },
  {
   "cell_type": "code",
   "execution_count": 42,
   "id": "7678e2ab",
   "metadata": {},
   "outputs": [
    {
     "name": "stdout",
     "output_type": "stream",
     "text": [
      "range of the dataset will be = 4\n"
     ]
    }
   ],
   "source": [
    "data1 = [1,2,3,4,5] # lets assume this data set for example\n",
    "print(\"range of the dataset will be =\", max(data1) - min(data1))"
   ]
  },
  {
   "cell_type": "markdown",
   "id": "59fe5b17",
   "metadata": {},
   "source": [
    "**Variance:** Variance measures the average squared deviation of each data point from the mean of the dataset. A higher variance implies a greater spread or dispersion of data points around the mean. Mathematically it can be defined as the following equation\n",
    "\n",
    "$ \\text{variance} =  \\sum \\limits _{i=1} ^{N} \\frac{( X_{i} - \\mu )^2}{N} $\n",
    "\n",
    "Here, $ X_i $ is the ith element of the dataset, $\\mu$ is the mean of the dataset and N is the total element in the dataset.\n",
    "\n"
   ]
  },
  {
   "cell_type": "code",
   "execution_count": 45,
   "id": "559f5fd3",
   "metadata": {},
   "outputs": [
    {
     "name": "stdout",
     "output_type": "stream",
     "text": [
      "Variance of the dataset is =  2.0\n"
     ]
    }
   ],
   "source": [
    "print(\"Variance of the dataset is = \",np.var(data1))"
   ]
  },
  {
   "cell_type": "markdown",
   "id": "62a8e795",
   "metadata": {},
   "source": [
    "**Standard Deviation**: Standard deviation $\\sigma$ of a data set is defined as the square root of its variance.  It represents the average deviation of data points from the mean. Mathematically, \n",
    "\n",
    "$\\sigma = \\sqrt{\\text{variance}}$"
   ]
  },
  {
   "cell_type": "code",
   "execution_count": 46,
   "id": "11af91f1",
   "metadata": {
    "scrolled": true
   },
   "outputs": [
    {
     "name": "stdout",
     "output_type": "stream",
     "text": [
      "Standard deviation of the data set is =  1.4142135623730951\n"
     ]
    }
   ],
   "source": [
    "print('Standard deviation of the data set is = ', np.std(data1))"
   ]
  },
  {
   "cell_type": "markdown",
   "id": "b55670b5",
   "metadata": {},
   "source": [
    "# Question 6:"
   ]
  },
  {
   "cell_type": "markdown",
   "id": "32cd6745",
   "metadata": {},
   "source": [
    "A Venn diagram is a diagram that shows the logical relationships between two or more sets. Venn diagrams are made up of circles or other shapes that represent sets. The area inside each circle represents the elements of that set. The areas where circles overlap represent elements that are in more than one set."
   ]
  },
  {
   "cell_type": "markdown",
   "id": "46f5a926",
   "metadata": {},
   "source": [
    "# Question 7:"
   ]
  },
  {
   "cell_type": "code",
   "execution_count": 48,
   "id": "91377723",
   "metadata": {},
   "outputs": [],
   "source": [
    "A = (2,3,4,5,6,7)\n",
    "B = (0,2,6,8,10)"
   ]
  },
  {
   "cell_type": "markdown",
   "id": "6a97fa68",
   "metadata": {},
   "source": [
    "Here A and B are two sets.\n",
    "\n",
    "(i) $A \\cap B = (2,6)$\n",
    "\n",
    "(ii) $A \\cup B = (0,2,3,4,5,6,7,8,10)$"
   ]
  },
  {
   "cell_type": "markdown",
   "id": "d87d649f",
   "metadata": {},
   "source": [
    "# Question 8:"
   ]
  },
  {
   "cell_type": "markdown",
   "id": "089479a2",
   "metadata": {},
   "source": [
    "Skewness is a measure of the asymmetry of a distribution of a dataset. It quantifies the deviation of a dataset from a perfectly symmetric distribution, such as a normal distribution. "
   ]
  },
  {
   "cell_type": "markdown",
   "id": "fd1040ca",
   "metadata": {},
   "source": [
    "# Question 9:"
   ]
  },
  {
   "cell_type": "markdown",
   "id": "2d57ca5b",
   "metadata": {},
   "source": [
    "If a data is right skewed, then the median will be less than the mean."
   ]
  },
  {
   "cell_type": "markdown",
   "id": "d7518f14",
   "metadata": {},
   "source": [
    "# Question 10:"
   ]
  },
  {
   "cell_type": "markdown",
   "id": "0ca786e6",
   "metadata": {},
   "source": [
    "The main differences between covariance and correlation are:\n",
    "\n",
    "* Covariance is a measure of how much two variables change together, while correlation is a measure of how strongly they are related.\n",
    "* Covariance can have any value between $-\\infty$ and $+\\infty$ , while correlation is always between -1 and 1.\n",
    "\n",
    "Covariance between two distribution with random variable X and Y is given by:\n",
    "\n",
    "$\\text{cov(X, Y)} = \\frac{\\sum (X_i - \\bar{X})(Y_i - \\bar{Y})}{N} $ \n",
    "\n",
    "Correlation is given by:\n",
    "\n",
    "$ \\text{cor} = \\frac{\\text{cov(X, Y)}}{\\sigma_X \\sigma_Y} $\n",
    "\n",
    "where, $\\sigma_X $ and $\\sigma_Y$ are the standard deviation of the two distributions. \n",
    "\n",
    "Both covariance and correlation have important uses in statistical analysis. They help to identify patterns and associations between variables, allowing us to better understand how changes in one variable may be related to changes in another."
   ]
  },
  {
   "cell_type": "markdown",
   "id": "fbbcc285",
   "metadata": {},
   "source": [
    "# Question 11:"
   ]
  },
  {
   "cell_type": "markdown",
   "id": "2b0a9050",
   "metadata": {},
   "source": [
    "Sample is defined by the sum of all data points divided by the total number of data points. Mathematically it can be given by:\n",
    "\n",
    "$\\bar{x} = \\frac{\\sum x_i}{n}$\n",
    "\n",
    "For example, lets take the sample = [1,2,3,4,5].\n",
    "Now, sample mean will be = $\\frac{1+2+3+4+5}{5} = 3$ "
   ]
  },
  {
   "cell_type": "markdown",
   "id": "56eadbb4",
   "metadata": {},
   "source": [
    "# Question 12:"
   ]
  },
  {
   "cell_type": "markdown",
   "id": "96903b3c",
   "metadata": {},
   "source": [
    "For a normal distribution, the measure of central tendency i.e. the mean, median, and mode are all equal. This is because the normal distribution is symmetrical."
   ]
  },
  {
   "cell_type": "markdown",
   "id": "98eb2efa",
   "metadata": {},
   "source": [
    "# Question 13:"
   ]
  },
  {
   "cell_type": "markdown",
   "id": "35851158",
   "metadata": {},
   "source": [
    "Covariance measures the direction of the linear relationship between two variables while correlation measures both the strength and direction of the linear relationship on a standardized scale."
   ]
  },
  {
   "cell_type": "markdown",
   "id": "a98a5243",
   "metadata": {},
   "source": [
    "# Question 14:"
   ]
  },
  {
   "cell_type": "markdown",
   "id": "e2e900e5",
   "metadata": {},
   "source": [
    "Outliers can have a significant impact on measures of central tendency and dispersion. \n",
    "* **Mean:** Outliers can heavily influence the mean because it takes into account all the values in the dataset. It can skew the mean.\n",
    "* **Median:** Outliers have less impact on the median since it only considers the middle value of the sorted data.\n",
    "* **Mode:** Outliers generally do not affect the mode since it represents the most frequently occurring value in the dataset. However, if an outlier occurs very frequently, then it may change the mode.\n",
    "* **Range:** Outliers have a massive impact on the range because it is calculated as the difference between the maximum and minimum values in the dataset.\n",
    "* **Variance:** Variance is influenced by outliers because they are based on the squared differences between each data point and the mean.\n",
    "* **Standard deviation:** Since standard daviation is the squared root of variace, outliears have also significant impact of this.\n",
    "\n",
    "We can observe this from the following example:"
   ]
  },
  {
   "cell_type": "code",
   "execution_count": 12,
   "id": "68f98561",
   "metadata": {},
   "outputs": [],
   "source": [
    "# Let us take the following two data sets.\n",
    "data1 = [1,1,2,3,4,4,4,5,6,7,8,9,10]\n",
    "data2 = [1,1,2,3,4,4,4,5,6,7,8,9,10, 1000] # with an outlier"
   ]
  },
  {
   "cell_type": "code",
   "execution_count": 18,
   "id": "e8605ab1",
   "metadata": {},
   "outputs": [
    {
     "name": "stdout",
     "output_type": "stream",
     "text": [
      "Mean without outlier =  4.923076923076923\n",
      "Mean with outlier =  76.0\n",
      "Median without outliers =  4.0\n",
      "Median with outliers =  4.5\n",
      "Mode without outliers =  ModeResult(mode=4, count=3)\n",
      "Mode with outliers =  ModeResult(mode=4, count=3)\n",
      "Range without outliers =  9\n",
      "Range with outliers =  999\n",
      "Variance without outliers =  7.91715976331361\n",
      "Variance with outliers =  65682.42857142857\n",
      "Standard deviation without outliers =  2.813744793564905\n",
      "Standard deviation with outliers =  256.28583373145807\n"
     ]
    }
   ],
   "source": [
    "print(\"Mean without outlier = \", np.mean(data1))\n",
    "print(\"Mean with outlier = \", np.mean(data2))\n",
    "print(\"Median without outliers = \", np.median(data1))\n",
    "print(\"Median with outliers = \", np.median(data2))\n",
    "print(\"Mode without outliers = \", stats.mode(data1, keepdims = False))\n",
    "print(\"Mode with outliers = \", stats.mode(data2, keepdims = False))\n",
    "print(\"Range without outliers = \", max(data1) - min(data1))\n",
    "print(\"Range with outliers = \", max(data2) - min(data2))\n",
    "print(\"Variance without outliers = \", np.var(data1))\n",
    "print(\"Variance with outliers = \", np.var(data2))\n",
    "print(\"Standard deviation without outliers = \", np.std(data1))\n",
    "print(\"Standard deviation with outliers = \", np.std(data2))"
   ]
  },
  {
   "cell_type": "code",
   "execution_count": null,
   "id": "c2dc84c2",
   "metadata": {},
   "outputs": [],
   "source": []
  }
 ],
 "metadata": {
  "kernelspec": {
   "display_name": "Python 3 (ipykernel)",
   "language": "python",
   "name": "python3"
  },
  "language_info": {
   "codemirror_mode": {
    "name": "ipython",
    "version": 3
   },
   "file_extension": ".py",
   "mimetype": "text/x-python",
   "name": "python",
   "nbconvert_exporter": "python",
   "pygments_lexer": "ipython3",
   "version": "3.10.9"
  }
 },
 "nbformat": 4,
 "nbformat_minor": 5
}
