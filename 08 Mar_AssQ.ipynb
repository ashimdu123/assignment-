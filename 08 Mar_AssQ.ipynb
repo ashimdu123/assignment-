{
 "cells": [
  {
   "cell_type": "markdown",
   "id": "f0273c38",
   "metadata": {},
   "source": [
    "# Question 1:"
   ]
  },
  {
   "cell_type": "markdown",
   "id": "44b7159f",
   "metadata": {},
   "source": [
    "Probability Density Function (PDF) is a mathematical function that describes the likelihood of a random variable taking on a particular value or falling within a certain range of values. "
   ]
  },
  {
   "cell_type": "markdown",
   "id": "5b5f6663",
   "metadata": {},
   "source": [
    "# Question 2:"
   ]
  },
  {
   "cell_type": "markdown",
   "id": "0c5a6acb",
   "metadata": {},
   "source": [
    "There are many probability distributions. Some are given below:\n",
    "* Normal Distribution / Gaussian Distribution\n",
    "* Uniform Distribution\n",
    "* Bernoulli Distribution\n",
    "* Binomial Distribution\n",
    "* Poission Distribution\n",
    "* Log Normal Distribution\n",
    "* Power Law Distribution"
   ]
  },
  {
   "cell_type": "markdown",
   "id": "2c417de6",
   "metadata": {},
   "source": [
    "# Question 3:"
   ]
  },
  {
   "cell_type": "code",
   "execution_count": 21,
   "id": "8db3045a",
   "metadata": {},
   "outputs": [],
   "source": [
    "import numpy as np\n",
    "\n",
    "def normal_distribution(x, mean, std):\n",
    "    func = (1/(std*np.sqrt(2*np.pi)))* np.exp(-(((x - mean)/std)**2)/2)\n",
    "    return func"
   ]
  },
  {
   "cell_type": "code",
   "execution_count": 23,
   "id": "d697ee27",
   "metadata": {},
   "outputs": [
    {
     "name": "stdout",
     "output_type": "stream",
     "text": [
      "The normal distribution at point x = 1 with mean = 3 and standard diviation 1 is 0.05399096651318806\n"
     ]
    }
   ],
   "source": [
    "print(f\"The normal distribution at point x = 1 with mean = 3 and standard diviation 1 is {normal_distribution( 1, 3, 1)}\")"
   ]
  },
  {
   "cell_type": "markdown",
   "id": "95b5f57f",
   "metadata": {},
   "source": [
    "# Question 4:"
   ]
  },
  {
   "cell_type": "markdown",
   "id": "d23eea05",
   "metadata": {},
   "source": [
    "Some of the properties of binomial distribution are:\n",
    "* The number of trials in a binomial distribution is fixed. \n",
    "* The trials in a binomial distribution are independent.\n",
    "* The probability of success in a binomial distribution is fixed.\n",
    "* The binomial distribution can only have two possible outcomes i.e. success or failure.\n",
    "\n",
    "Two examples of events where binomial distribution can be applied are:\n",
    "* **Tossing a coin:** When we toss a coin, there are two possible outcomes: heads or tails.\n",
    "* **Student pass rate:** In a standardized exam, there are two possible outcome. Either a student will pass or he/she will fail."
   ]
  },
  {
   "cell_type": "markdown",
   "id": "ace9e793",
   "metadata": {},
   "source": [
    "# Question 5:"
   ]
  },
  {
   "cell_type": "code",
   "execution_count": 22,
   "id": "14ca3169",
   "metadata": {},
   "outputs": [],
   "source": [
    "import random\n",
    "import matplotlib.pyplot as plt\n",
    "\n",
    "lst = []\n",
    "for _ in range(0, 1000):\n",
    "    number = random.random()\n",
    "    if number <= 0.4:\n",
    "        lst.append('s')\n",
    "    else:\n",
    "        lst.append('f')\n",
    "    "
   ]
  },
  {
   "cell_type": "code",
   "execution_count": 23,
   "id": "a475acfe",
   "metadata": {},
   "outputs": [
    {
     "data": {
      "image/png": "[encoded data removed]",
      "text/plain": [
       "<Figure size 640x480 with 1 Axes>"
      ]
     },
     "metadata": {},
     "output_type": "display_data"
    }
   ],
   "source": [
    "plt.hist(lst, bins=2 , edgecolor='black')\n",
    "\n",
    "plt.xlabel('Success or Failure')\n",
    "plt.ylabel('Frequency')\n",
    "plt.title('Histogram with probability of success 0.4')\n",
    "\n",
    "plt.show()"
   ]
  },
  {
   "cell_type": "markdown",
   "id": "c5f63933",
   "metadata": {},
   "source": [
    "# Question 6:"
   ]
  },
  {
   "cell_type": "code",
   "execution_count": 109,
   "id": "409738c6",
   "metadata": {},
   "outputs": [],
   "source": [
    "import numpy as np\n",
    "\n",
    "def cum_dist(mean, k):\n",
    "    \n",
    "    cdf = 0\n",
    "    for i in range(0,k+1):\n",
    "        cdf = cdf + ((np.exp(-mean)*mean**i) / np.math.factorial(i))\n",
    "    return cdf"
   ]
  },
  {
   "cell_type": "code",
   "execution_count": 120,
   "id": "47eef86d",
   "metadata": {},
   "outputs": [
    {
     "name": "stdout",
     "output_type": "stream",
     "text": [
      "Cumulative distribution at point 2 with mean 1 = 0.9196986029286058\n"
     ]
    }
   ],
   "source": [
    "print(f\"Cumulative distribution at point 2 with mean 1 = {cum_dist(1, 2)}\")"
   ]
  },
  {
   "cell_type": "markdown",
   "id": "b32e1371",
   "metadata": {},
   "source": [
    "# Question 7:"
   ]
  },
  {
   "cell_type": "markdown",
   "id": "8234c436",
   "metadata": {},
   "source": [
    "The differences between binomial distribution and poisson distributin are:\n",
    "* The Binomial distribution is a series of independent Bernoulli trials, where each trial can have two outcomes. Whereas in Poisson distribution the number of events are occured in a fixed interval of time or space.\n",
    "* The Binomial distribution involves a fixed number of trials or events but in Poisson distribution the number of events are not fixed and it can be infinite also.\n",
    "* The Binomial distribution requires a fixed probability of success for each trial but Poisson distribution does not require a fixed probability of success."
   ]
  },
  {
   "cell_type": "markdown",
   "id": "6278d7c4",
   "metadata": {},
   "source": [
    "# Question 8:"
   ]
  },
  {
   "cell_type": "code",
   "execution_count": 165,
   "id": "0abc8b98",
   "metadata": {},
   "outputs": [
    {
     "name": "stdout",
     "output_type": "stream",
     "text": [
      "The sample mean = 4.857\n",
      "The sample variance = 4.866550999999999\n"
     ]
    }
   ],
   "source": [
    "mean = 5\n",
    "sample_size = 1000\n",
    "poisson_sample = np.random.poisson(mean, size = sample_size)\n",
    "print(f'The sample mean = {np.mean(poisson_sample)}')\n",
    "print(f'The sample variance = {np.var(poisson_sample)}')"
   ]
  },
  {
   "cell_type": "markdown",
   "id": "92587723",
   "metadata": {},
   "source": [
    "# Question 9:"
   ]
  },
  {
   "cell_type": "markdown",
   "id": "14b82727",
   "metadata": {},
   "source": [
    "If n is the number of trials and p is the probability of success then we have,\n",
    "* The mean of binomial distribution, $\\mu = n*p$, \n",
    "* The variance of binomial distribution,  $\\text{var} = n*p*(1-p) $\n",
    "\n",
    "In poisson distribution the mean and the vairance are equal i.e. $\\mu = \\text{var}$"
   ]
  },
  {
   "cell_type": "markdown",
   "id": "5e7a9a24",
   "metadata": {},
   "source": [
    "# Question 10:"
   ]
  },
  {
   "cell_type": "markdown",
   "id": "1111bb86",
   "metadata": {},
   "source": [
    "In a normal distribution, the least frequent data points are located in the tails of the distribution, that is they are at the farthest away from the mean."
   ]
  }
 ],
 "metadata": {
  "kernelspec": {
   "display_name": "Python 3 (ipykernel)",
   "language": "python",
   "name": "python3"
  },
  "language_info": {
   "codemirror_mode": {
    "name": "ipython",
    "version": 3
   },
   "file_extension": ".py",
   "mimetype": "text/x-python",
   "name": "python",
   "nbconvert_exporter": "python",
   "pygments_lexer": "ipython3",
   "version": "3.10.5"
  }
 },
 "nbformat": 4,
 "nbformat_minor": 5
}
