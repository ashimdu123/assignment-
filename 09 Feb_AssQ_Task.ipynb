{
 "cells": [
  {
   "cell_type": "markdown",
   "id": "38be410f",
   "metadata": {},
   "source": [
    "# Problem 1:"
   ]
  },
  {
   "cell_type": "code",
   "execution_count": 3,
   "id": "4bea23da",
   "metadata": {},
   "outputs": [],
   "source": [
    "class vehicle:\n",
    "    def __init__(self, name_of_vehicle, max_speed,  average_of_vehicle):\n",
    "        self.name_of_vehicle = name_of_vehicle\n",
    "        self.max_speed = max_speed\n",
    "        self.average_of_vehicle = average_of_vehicle"
   ]
  },
  {
   "cell_type": "code",
   "execution_count": 7,
   "id": "c9d331dc",
   "metadata": {},
   "outputs": [],
   "source": [
    "obj = vehicle('Nano', 60, 30)"
   ]
  },
  {
   "cell_type": "code",
   "execution_count": 5,
   "id": "2c34591b",
   "metadata": {},
   "outputs": [
    {
     "name": "stdout",
     "output_type": "stream",
     "text": [
      "Nano\n",
      "60\n",
      "30\n"
     ]
    }
   ],
   "source": [
    "print(obj.name_of_vehicle)\n",
    "print(obj.max_speed)\n",
    "print(obj.average_of_vehicle)"
   ]
  },
  {
   "cell_type": "markdown",
   "id": "3efe1901",
   "metadata": {},
   "source": [
    "# Problem 2:"
   ]
  },
  {
   "cell_type": "code",
   "execution_count": 2,
   "id": "60cbcb76",
   "metadata": {},
   "outputs": [],
   "source": [
    "class vehicle:\n",
    "    def __init__(self, name_of_vehicle, max_speed,  average_of_vehicle):\n",
    "        self.name_of_vehicle = name_of_vehicle\n",
    "        self.max_speed = max_speed\n",
    "        self.average_of_vehicle = average_of_vehicle\n",
    "class car(vehicle):\n",
    "    def seating_capacity(self, capacity):\n",
    "        return f\"Name of the vehicle is = {self.name_of_vehicle} and the seating capacity is {capacity}.\"\n"
   ]
  },
  {
   "cell_type": "code",
   "execution_count": 8,
   "id": "b645db61",
   "metadata": {},
   "outputs": [],
   "source": [
    "obj2 = car('Nano', 60, 30)"
   ]
  },
  {
   "cell_type": "code",
   "execution_count": 10,
   "id": "4d68c870",
   "metadata": {},
   "outputs": [
    {
     "data": {
      "text/plain": [
       "'Name of the vehicle is = Nano and the seating capacity is 4.'"
      ]
     },
     "execution_count": 10,
     "metadata": {},
     "output_type": "execute_result"
    }
   ],
   "source": [
    "obj2.seating_capacity(4)"
   ]
  },
  {
   "cell_type": "markdown",
   "id": "7c6f6ae0",
   "metadata": {},
   "source": [
    "# Problem 3:\n",
    "\n",
    "Multiple inheritance is a feature in OOPS concept in which an object or class can inherit features from more than one parent class."
   ]
  },
  {
   "cell_type": "code",
   "execution_count": 24,
   "id": "3033edeb",
   "metadata": {},
   "outputs": [],
   "source": [
    "class parant1:\n",
    "    def name(self):\n",
    "        return \"This will return the name of the student.\"\n",
    "class parant2:\n",
    "    def age(self):\n",
    "        return \"This will return the age of the student.\"\n",
    "    \n",
    "class child(parant1, parant2):\n",
    "    pass\n",
    "\n",
    "obj = child()"
   ]
  },
  {
   "cell_type": "code",
   "execution_count": 25,
   "id": "228857d8",
   "metadata": {},
   "outputs": [
    {
     "name": "stdout",
     "output_type": "stream",
     "text": [
      "This will return the name of the student. This will return the age of the student.\n"
     ]
    }
   ],
   "source": [
    "print(obj.name(), obj.age())"
   ]
  },
  {
   "cell_type": "markdown",
   "id": "0caf1778",
   "metadata": {},
   "source": [
    "# Problem 4:\n",
    "* __Getter__: A method that allows us to access an attribute in a given class\n",
    "* __Setter__: A method that allows us to set or mutate the value of an attribute in a class"
   ]
  },
  {
   "cell_type": "code",
   "execution_count": 54,
   "id": "82ce69f6",
   "metadata": {},
   "outputs": [],
   "source": [
    "class student_name:\n",
    "    def __init__(self, name):\n",
    "        self._name = name\n",
    "      \n",
    "\n",
    "    def get_name(self):\n",
    "        return self._name\n",
    "\n",
    "    def set_name(self, name):\n",
    "\n",
    "        self._name = name\n",
    "\n",
    "        \n",
    "student = student_name('Aju')"
   ]
  },
  {
   "cell_type": "code",
   "execution_count": 55,
   "id": "a7cfe523",
   "metadata": {},
   "outputs": [
    {
     "data": {
      "text/plain": [
       "'Aju'"
      ]
     },
     "execution_count": 55,
     "metadata": {},
     "output_type": "execute_result"
    }
   ],
   "source": [
    "student.get_name()"
   ]
  },
  {
   "cell_type": "code",
   "execution_count": 56,
   "id": "c8dad179",
   "metadata": {},
   "outputs": [
    {
     "data": {
      "text/plain": [
       "'Diju'"
      ]
     },
     "execution_count": 56,
     "metadata": {},
     "output_type": "execute_result"
    }
   ],
   "source": [
    "student.set_name('Diju')\n",
    "student.get_name()"
   ]
  },
  {
   "cell_type": "markdown",
   "id": "ff24eb29",
   "metadata": {},
   "source": [
    "# Problem 5:\n",
    "Method overriding is a concept in OOPS where a subclass provides its own implementation of a method that is already defined in its parent class."
   ]
  },
  {
   "cell_type": "code",
   "execution_count": 62,
   "id": "53e5755a",
   "metadata": {},
   "outputs": [],
   "source": [
    "class parant:\n",
    "    def name(self):\n",
    "        print(\"Name of the student is Aju\")\n",
    "\n",
    "class child(parant):\n",
    "    def name(self):\n",
    "        student_name = 'Diju'\n",
    "        print(f\"The area of the rectangle is: {student_name}\")"
   ]
  },
  {
   "cell_type": "code",
   "execution_count": 63,
   "id": "0ea3df62",
   "metadata": {},
   "outputs": [],
   "source": [
    "obj = child()"
   ]
  },
  {
   "cell_type": "code",
   "execution_count": 65,
   "id": "6508da5b",
   "metadata": {},
   "outputs": [
    {
     "name": "stdout",
     "output_type": "stream",
     "text": [
      "Name of the student is: Diju\n"
     ]
    }
   ],
   "source": [
    "obj.name()"
   ]
  }
 ],
 "metadata": {
  "kernelspec": {
   "display_name": "Python 3 (ipykernel)",
   "language": "python",
   "name": "python3"
  },
  "language_info": {
   "codemirror_mode": {
    "name": "ipython",
    "version": 3
   },
   "file_extension": ".py",
   "mimetype": "text/x-python",
   "name": "python",
   "nbconvert_exporter": "python",
   "pygments_lexer": "ipython3",
   "version": "3.10.9"
  }
 },
 "nbformat": 4,
 "nbformat_minor": 5
}
