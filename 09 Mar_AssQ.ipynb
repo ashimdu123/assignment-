{
 "cells": [
  {
   "cell_type": "markdown",
   "id": "d99a65ff",
   "metadata": {},
   "source": [
    "# Question 1:"
   ]
  },
  {
   "cell_type": "markdown",
   "id": "3e3eb7d0",
   "metadata": {},
   "source": [
    "The Probability Mass Function (PMF) and Probability Density Function (PDF) are mathematical concepts used to describe the probability distribution of a random variable.\n",
    "* **Probability Mass Function:** The PMF is used for discrete random variables. For example, in case of bernoulli distribution we use PMF.\n",
    "* **Probability Density Function:** The PDF is used for continuous random variables. For example, in case of normal distribution we use PDF."
   ]
  },
  {
   "cell_type": "markdown",
   "id": "fa6af5f8",
   "metadata": {},
   "source": [
    "# Question 2:"
   ]
  },
  {
   "cell_type": "markdown",
   "id": "b19c1a26",
   "metadata": {},
   "source": [
    "The Cumulative Density Function (CDF) is a concept used to describe the cumulative probability distribution of a random variable. It describes the probability that a random variable will be less than or equal to a certain value.\n",
    "\n",
    "For a discrete random variable, the CDF is defined as: CDF(x) = P(X <= x).\n",
    "\n",
    "For example, if we roll a dice and we are asked what is the probability of getting a number less then of equal to 3, then in such cases we can use CDF as\n",
    "\n",
    "CDF(3) = P(X <= 3).\n",
    "\n",
    "Cumulative Density Function is used to calculate percentiles and quantiles of the distribution. Also, CDF plays a important role in hypothesis testing.\n",
    "\n"
   ]
  },
  {
   "cell_type": "markdown",
   "id": "5435d32d",
   "metadata": {},
   "source": [
    "# Question 3:"
   ]
  },
  {
   "cell_type": "markdown",
   "id": "e102103d",
   "metadata": {},
   "source": [
    "Here are some examples where we can use normal distribution:\n",
    "* Distribution of height of students in a large classroom.\n",
    "* In manufacturing processes, measurements of product characteristics, such as length, weight, or volume, often exhibit a normal distribution around a central value.\n",
    "\n",
    "The parameters of normal distribution are the mean ($\\mu$) and the standard deviation ($\\sigma$).\n",
    "\n",
    "The mean is a measure of the location of the distribution. Shifting the mean to the right or left will change the location of the distribution, while keeping its shape intact.\n",
    "\n",
    "The standard deviation of the normal distribution quantifies the spread or dispersion of the data. A smaller standard deviation indicates a narrower distribution and a larger standard deviation results in a wider distribution, with data points more spread out.\n"
   ]
  },
  {
   "cell_type": "markdown",
   "id": "91821c07",
   "metadata": {},
   "source": [
    "# Question 4:"
   ]
  },
  {
   "cell_type": "markdown",
   "id": "84df02a4",
   "metadata": {},
   "source": [
    "Some of the proterties for which normal distribution is very important in statistics are given below:\n",
    "* Many natural phenomena and measurements exhibit a distribution that closely resembles the normal distribution. This makes the normal distribution a useful model for approximating and understanding real-world phenomena.\n",
    "* The normal distribution has numerous mathematical properties which make it popular and comparatively easy to manipulate. The normal distribution provides a solid foundation for parameter estimation and prediction.\n",
    "* The normal distribution has the remarkable property stated in the so-called central limit theorem.\n",
    "* The normal distribution facilitates data analysis and decision making by providing well-defined measures of central tendency (mean) and dispersion (standard deviation).\n",
    "\n",
    "Examples of normal distribution:\n",
    "\n",
    "* Many human physical characteristics follow a roughly normal distribution. Such as height, weight, blood pressure etc.\n",
    "* Marks obtained by the students in an exam also follow normal distribution.\n",
    "* The distribution of rainfall in a year can also be considered as normally distributed.\n"
   ]
  },
  {
   "cell_type": "markdown",
   "id": "f73b3b7d",
   "metadata": {},
   "source": [
    "# Question 5:"
   ]
  },
  {
   "cell_type": "markdown",
   "id": "2c52b9e6",
   "metadata": {},
   "source": [
    "The Bernoulli distribution is a discrete probability distribution that models a random experiment with two possible outcomes: success and failure. For example tossing of a unbaised coin. Here probability of getting head is a Bernoaulli distribution.\n",
    "\n",
    "The difference between Bernoulli distribution and Binomial distribution are:\n",
    "\n",
    "* The Bernoulli distribution describes a single trial, while the Binomial distribution describes a series of n trials.\n",
    "* The Bernoulli distribution is characterized by a single parameter, p, i.e. the probabiliy of getting success. Whereas the Binomial distribution is characterized by two parameters: the number of trials, n, and the probability of success in each trial, p."
   ]
  },
  {
   "cell_type": "markdown",
   "id": "46d31b4c",
   "metadata": {},
   "source": [
    "# Question 6:"
   ]
  },
  {
   "cell_type": "markdown",
   "id": "9ad1c8a5",
   "metadata": {},
   "source": [
    "Given mean ($\\mu$) = 50\n",
    "\n",
    "standard deviation ($\\sigma$) = 10 \n",
    "\n",
    "Hence, the probability that a randomly selected observation will be less than 60\n",
    "\n",
    "$P(X <= 60) = \\int_{-\\infty}^{60} \\frac{1}{\\sigma\\sqrt{2\\pi}} e^{-\\frac{(x - \\mu)^2}{2 \\sigma^2}} dx$.\n",
    "\n",
    "Now, the probability that a randomly selected observation will be greater than 60 is\n",
    "\n",
    "$P(X > 60) = 1 - \\int_{-\\infty}^{60} \\frac{1}{\\sigma\\sqrt{2\\pi}} e^{-\\frac{(x - \\mu)^2}{2 \\sigma^2}} dx = 1 - 0.84 = 0.16$ "
   ]
  },
  {
   "cell_type": "markdown",
   "id": "8e8967e5",
   "metadata": {},
   "source": [
    "# Question 7:"
   ]
  },
  {
   "cell_type": "markdown",
   "id": "1704a9c1",
   "metadata": {},
   "source": [
    "Uniform distribution is a continuous probability distribution that represents a situation where all outcomes within a given range are equally likely to occur. For example, rolling a standard dice. In this case probability of getting any one of side is 1/6 and all the outcome has equal probability. "
   ]
  },
  {
   "cell_type": "markdown",
   "id": "4fa28ebf",
   "metadata": {},
   "source": [
    "# Question 8:"
   ]
  },
  {
   "cell_type": "markdown",
   "id": "985aa7ad",
   "metadata": {},
   "source": [
    "Z-score is a statistical measure that represents how many standard deviations a particular data point is away from the mean of a distribution. \n",
    "\n",
    "Z-scores are important because they allow us to compare data points that are from different distributions, even if the distributions have different means and standard deviations. "
   ]
  },
  {
   "cell_type": "markdown",
   "id": "166022da",
   "metadata": {},
   "source": [
    "# Question 9:"
   ]
  },
  {
   "cell_type": "markdown",
   "id": "5548083f",
   "metadata": {},
   "source": [
    "The central limit theorem states that if we take sufficiently large samples from a population, the mean of the samples will be normally distributed, even if the population is not normally distributed.\n",
    "\n",
    "The central limit theorem is a very important theorem in statistics, as it allows us to make inferences about populations based on samples. It allows us to assume that the sampling distribution of the mean will be normally-distributed in most cases. This is a very useful approximation, as the normal distribution is well-understood and there are many tables and calculators available to help us work with it."
   ]
  },
  {
   "cell_type": "markdown",
   "id": "2844456a",
   "metadata": {},
   "source": [
    "# Question 10:"
   ]
  },
  {
   "cell_type": "markdown",
   "id": "31b9e631",
   "metadata": {},
   "source": [
    "The main assumptions of the central limit theorem are:\n",
    "* The sample data should be random and independent of each other.\n",
    "* The sample data must have a finite mean and variance.\n",
    "* The sample size must be greater then or equal to 30 ($n \\geq 30$)."
   ]
  },
  {
   "cell_type": "code",
   "execution_count": null,
   "id": "822d951a",
   "metadata": {},
   "outputs": [],
   "source": []
  }
 ],
 "metadata": {
  "kernelspec": {
   "display_name": "Python 3 (ipykernel)",
   "language": "python",
   "name": "python3"
  },
  "language_info": {
   "codemirror_mode": {
    "name": "ipython",
    "version": 3
   },
   "file_extension": ".py",
   "mimetype": "text/x-python",
   "name": "python",
   "nbconvert_exporter": "python",
   "pygments_lexer": "ipython3",
   "version": "3.10.5"
  }
 },
 "nbformat": 4,
 "nbformat_minor": 5
}
