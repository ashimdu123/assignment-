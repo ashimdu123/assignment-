{
 "cells": [
  {
   "cell_type": "markdown",
   "id": "d65882d4",
   "metadata": {},
   "source": [
    "# Problem 1:\n",
    "An exception is an event, which occurs during the execution of a program that disrupts the normal flow of the program's instructions.<br>\n",
    "\n",
    "The difference between syntax error and exceptions is that \n",
    "* Syntax errors are related to the incorrect structure or format of the code, while exceptions occur when the code encounters unforeseen circumstances or errors during its execution."
   ]
  },
  {
   "cell_type": "markdown",
   "id": "1dba4cea",
   "metadata": {},
   "source": [
    "# Problem 2:\n",
    "When an exception is not handled in Python, it results in the termination of the program with an error message.\n",
    "\n",
    "For example lets check the below code,"
   ]
  },
  {
   "cell_type": "code",
   "execution_count": 3,
   "id": "af28d023",
   "metadata": {},
   "outputs": [
    {
     "ename": "IndexError",
     "evalue": "list index out of range",
     "output_type": "error",
     "traceback": [
      "\u001b[1;31m---------------------------------------------------------------------------\u001b[0m",
      "\u001b[1;31mIndexError\u001b[0m                                Traceback (most recent call last)",
      "Cell \u001b[1;32mIn[3], line 2\u001b[0m\n\u001b[0;32m      1\u001b[0m my_list \u001b[38;5;241m=\u001b[39m [\u001b[38;5;241m1\u001b[39m,\u001b[38;5;241m2\u001b[39m,\u001b[38;5;241m3\u001b[39m,\u001b[38;5;241m4\u001b[39m,\u001b[38;5;241m5\u001b[39m]\n\u001b[1;32m----> 2\u001b[0m \u001b[38;5;28mprint\u001b[39m(\u001b[38;5;124mf\u001b[39m\u001b[38;5;124m\"\u001b[39m\u001b[38;5;124mLast value of my list is = \u001b[39m\u001b[38;5;132;01m{\u001b[39;00mmy_list[\u001b[38;5;241m5\u001b[39m]\u001b[38;5;132;01m}\u001b[39;00m\u001b[38;5;124m\"\u001b[39m)\n\u001b[0;32m      3\u001b[0m \u001b[38;5;28mprint\u001b[39m(\u001b[38;5;124m\"\u001b[39m\u001b[38;5;124mEnd of my code.\u001b[39m\u001b[38;5;124m\"\u001b[39m)\n",
      "\u001b[1;31mIndexError\u001b[0m: list index out of range"
     ]
    }
   ],
   "source": [
    "my_list = [1,2,3,4,5]\n",
    "print(f\"Last value of my list is = {my_list[5]}\")\n",
    "print(\"End of my code.\")"
   ]
  },
  {
   "cell_type": "markdown",
   "id": "04d332cd",
   "metadata": {},
   "source": [
    "# Problem 3:\n",
    "\"Try\" and \"Except\" statements are used to catch and handle exceptions. For example lets take the example from the Problem 2.\n"
   ]
  },
  {
   "cell_type": "code",
   "execution_count": 10,
   "id": "8ac9223b",
   "metadata": {},
   "outputs": [
    {
     "name": "stdout",
     "output_type": "stream",
     "text": [
      "There is a problem in the code. list index out of range\n",
      "End of my code.\n"
     ]
    }
   ],
   "source": [
    "my_list = [1,2,3,4,5]\n",
    "try:\n",
    "    print(f\"Last value of my list is = {my_list[5]}\")\n",
    "except Exception as e:\n",
    "    print(\"There is a problem in the code.\", e)\n",
    "print(\"End of my code.\")"
   ]
  },
  {
   "cell_type": "markdown",
   "id": "ef8d65d4",
   "metadata": {},
   "source": [
    "# Problem 4:\n"
   ]
  },
  {
   "cell_type": "code",
   "execution_count": 27,
   "id": "4e9e76ac",
   "metadata": {},
   "outputs": [],
   "source": [
    "# a) Try and else:\n",
    "def divided_by(a):\n",
    "    try:\n",
    "        b = 10 / a\n",
    "    except Exception as e:\n",
    "        print(\"Number should not be zero.\", e)\n",
    "    else:\n",
    "        print(f\"Ansewer is = {b}\")\n",
    "        "
   ]
  },
  {
   "cell_type": "code",
   "execution_count": 25,
   "id": "43ae0e9e",
   "metadata": {},
   "outputs": [
    {
     "name": "stdout",
     "output_type": "stream",
     "text": [
      "Number should not be zero. division by zero\n"
     ]
    }
   ],
   "source": [
    "divided_by(0)"
   ]
  },
  {
   "cell_type": "code",
   "execution_count": 26,
   "id": "d3098dd4",
   "metadata": {},
   "outputs": [
    {
     "name": "stdout",
     "output_type": "stream",
     "text": [
      "Ansewer is = 2.0\n"
     ]
    }
   ],
   "source": [
    "divided_by(5)"
   ]
  },
  {
   "cell_type": "code",
   "execution_count": 28,
   "id": "d8fb8c44",
   "metadata": {},
   "outputs": [],
   "source": [
    "# b) finally:\n",
    "def divided_by(a):\n",
    "    try:\n",
    "        b = 10 / a\n",
    "    except Exception as e:\n",
    "        print(\"Number should not be zero.\", e)\n",
    "    else:\n",
    "        print(f\"Ansewer is = {b}\")\n",
    "    finally:\n",
    "        print(\"This is the end of the program.\")"
   ]
  },
  {
   "cell_type": "code",
   "execution_count": 29,
   "id": "a89f1183",
   "metadata": {},
   "outputs": [
    {
     "name": "stdout",
     "output_type": "stream",
     "text": [
      "Number should not be zero. division by zero\n",
      "This is the end of the program.\n"
     ]
    }
   ],
   "source": [
    "divided_by(0)"
   ]
  },
  {
   "cell_type": "code",
   "execution_count": 44,
   "id": "1cce2ca4",
   "metadata": {
    "scrolled": true
   },
   "outputs": [
    {
     "name": "stdout",
     "output_type": "stream",
     "text": [
      "Enter the number -100\n",
      "Number should not be less then zero\n"
     ]
    }
   ],
   "source": [
    "# c) raise:\n",
    "class verify_number(Exception):\n",
    "    def __init__(self, msg):\n",
    "        self.msg = msg\n",
    "def square_root(number):\n",
    "    if number < 0:\n",
    "        raise verify_number(\"Number should not be less then zero\")\n",
    "    else:\n",
    "        print(f\"Square of the {number} is = {number**(1/2)}\")  \n",
    "try:\n",
    "    number = int(input(\"Enter the number \"))\n",
    "    square_root(number)\n",
    "except verify_number as e:\n",
    "    print(e)"
   ]
  },
  {
   "cell_type": "markdown",
   "id": "2ce99006",
   "metadata": {},
   "source": [
    "# Problem 5:\n",
    "Custom exceptions are user-defined exception classes that inherit from the built-in Exception class or any of its subclasses.\n",
    "\n",
    "By using this custom expections, we can define our own type of exceptions to handle the exceptions that can occur in the program.\n",
    "\n",
    "For example, supose we need are taking student name as an input. Now we know that the name can not be a number. So if the user types a number instead of a proper name, in general, python program will not interpret as an error. This types of error we can handle with custom exception."
   ]
  },
  {
   "cell_type": "markdown",
   "id": "1093d0de",
   "metadata": {},
   "source": [
    "# Proglem 6:\n",
    "Lets consider the situation discussed in Problem 5."
   ]
  },
  {
   "cell_type": "code",
   "execution_count": 59,
   "id": "3209dec8",
   "metadata": {},
   "outputs": [
    {
     "name": "stdout",
     "output_type": "stream",
     "text": [
      "Enter the name of the student asdf2q34\n",
      "Name should not contain number\n"
     ]
    }
   ],
   "source": [
    "class name_verify(Exception):\n",
    "    pass\n",
    "\n",
    "def student_name(name):\n",
    "    for i in name:\n",
    "        if i.isdigit():\n",
    "            raise name_verify(\"Name should not contain number\")\n",
    "    else:\n",
    "        print(\"Name of the student is = \", name)\n",
    "\n",
    "try:\n",
    "    name = input(\"Enter the name of the student \")\n",
    "    student_name(name)\n",
    "except name_verify as e:\n",
    "    print(e)"
   ]
  },
  {
   "cell_type": "code",
   "execution_count": null,
   "id": "7fa48b9d",
   "metadata": {},
   "outputs": [],
   "source": []
  }
 ],
 "metadata": {
  "kernelspec": {
   "display_name": "Python 3 (ipykernel)",
   "language": "python",
   "name": "python3"
  },
  "language_info": {
   "codemirror_mode": {
    "name": "ipython",
    "version": 3
   },
   "file_extension": ".py",
   "mimetype": "text/x-python",
   "name": "python",
   "nbconvert_exporter": "python",
   "pygments_lexer": "ipython3",
   "version": "3.10.9"
  }
 },
 "nbformat": 4,
 "nbformat_minor": 5
}
