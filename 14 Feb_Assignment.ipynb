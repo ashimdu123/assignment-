{
 "cells": [
  {
   "cell_type": "markdown",
   "id": "04f76f80",
   "metadata": {},
   "source": [
    "# Problem 1:\n",
    "Multithreading in Python is the ability of a program to execute multiple threads of code concurrently within a single process. The reason to use this are follows\n",
    "* Multithreading can help to improve the performance of a program.\n",
    "* It ensures effective utilization of computer system resources.\n",
    "* Multithreaded applications are more responsive.\n",
    "* It saves time by executing multiple threads at the same time.\n",
    "* The system does not require too much memory to store multiple threads.\n",
    "* Multithreading can enable a program to perform multiple tasks concurrently, which can be useful for applications such as web servers and other network-based applications.\n",
    "\n",
    "The module used to handle threads in Python is called 'threading'."
   ]
  },
  {
   "cell_type": "markdown",
   "id": "159e57d6",
   "metadata": {},
   "source": [
    "# Problem 2:\n",
    "The threading module in Python is used to create and manage threads in a program. The threading module provides a high-level interface for creating and managing threads in a Python program. It includes functions for creating new threads, starting and stopping threads, and managing thread synchronization and communication.\n",
    "\n",
    "* **activeCount()**: This is an inbuilt method of the threading module in Python. It is used to return the number of Thread objects that are active at any instant.\n",
    "* **currentThread()**: This method returns the reference to the currently executing thread object.\n",
    "* **enumerate()**: This method returns a list of all thread objects that are active in the current Python interpreter.\n"
   ]
  },
  {
   "cell_type": "markdown",
   "id": "488f89d2",
   "metadata": {},
   "source": [
    "# Problem 3:\n",
    "* **run()**: This method is called to start the thread's execution. \n",
    "* **start()**: This creates a new thread object and begins the execution of the thread by calling the run() method.\n",
    "* **join()**: This is is used to wait for a thread to complete its execution.\n",
    "* **isAlive()**: This method is called to check whether a thread is still executing or not. It returns True if the thread is currently executing, and False otherwise."
   ]
  },
  {
   "cell_type": "markdown",
   "id": "ef5c28b1",
   "metadata": {},
   "source": [
    "# Problem 4:\n"
   ]
  },
  {
   "cell_type": "code",
   "execution_count": 2,
   "id": "25cf30e4",
   "metadata": {},
   "outputs": [
    {
     "name": "stdout",
     "output_type": "stream",
     "text": [
      "[1, 4, 9, 16]\n",
      "[1, 8, 27, 64]\n"
     ]
    }
   ],
   "source": [
    "import threading\n",
    "\n",
    "def square(lst):\n",
    "    lst_square = [x**2 for x in lst]\n",
    "    print(lst_square)\n",
    "def cube(lst):\n",
    "    lst_square = [x**3 for x in lst]\n",
    "    print(lst_square)\n",
    "    \n",
    "a  = [1,2,3,4]\n",
    "\n",
    "thread1 = threading.Thread(target = square, args = (a,)) \n",
    "thread2 = threading.Thread(target = cube, args = (a,)) \n",
    "\n",
    "thread1.start()\n",
    "thread2.start()\n",
    "thread1.join()\n",
    "thread2.join()"
   ]
  },
  {
   "cell_type": "markdown",
   "id": "b2d028dd",
   "metadata": {},
   "source": [
    "# Problem 5:\n",
    "Some advantages of multithreading are:\n",
    "* Multithreading allows multiple threads to execute simultaneously on a single CPU, increasing overall performance.\n",
    "\n",
    "* Multithreading can help keep the user interface responsive while the program is performing some lengthy task in the background.\n",
    "\n",
    "* Multiple threads can share resources like memory, files, and CPU time, reducing the overall resource usage of the program.\n",
    "\n",
    "* Modularity: Multithreading can help break down complex tasks into smaller, more manageable pieces that can be executed concurrently.\n",
    "\n",
    "Some disadvantages of multithreading are:\n",
    "\n",
    "* Multithreading increases the complexity of the program. Hence these programs are difficult to debug or test.\n",
    "* Multiple threads accessing shared resources can lead to race conditions, deadlocks, and other synchronization issues that need to be carefully managed.\n",
    "* Multithreaded programs can be less portable across different hardware and operating systems, as they may rely on specific features of the underlying platform."
   ]
  },
  {
   "cell_type": "markdown",
   "id": "027ef785",
   "metadata": {},
   "source": [
    "# Problem 6:\n",
    "**Deadlock**:\n",
    "A deadlock occurs when two or more threads are waiting for each other to release resources that they need to proceed. In other words, each thread is blocked waiting for a resource that is held by another thread, and no thread can proceed until the other releases the resource. This creates a circular dependency that can result in a program that is stuck in a deadlock, unable to make progress. Deadlocks can be difficult to detect and resolve, as they can involve multiple threads and resources.\n",
    "\n",
    "**rare condition**:\n",
    "A rare condition in multithreading in Python is a situation where two or more threads attempt to access a shared resource simultaneously, resulting in unpredictable behavior and potentially incorrect results. Rare conditions can occur when threads are not properly synchronized or coordinated, and can lead to race conditions, deadlocks, and other types of thread-related bugs."
   ]
  },
  {
   "cell_type": "code",
   "execution_count": null,
   "id": "14e50d58",
   "metadata": {},
   "outputs": [],
   "source": []
  }
 ],
 "metadata": {
  "kernelspec": {
   "display_name": "Python 3 (ipykernel)",
   "language": "python",
   "name": "python3"
  },
  "language_info": {
   "codemirror_mode": {
    "name": "ipython",
    "version": 3
   },
   "file_extension": ".py",
   "mimetype": "text/x-python",
   "name": "python",
   "nbconvert_exporter": "python",
   "pygments_lexer": "ipython3",
   "version": "3.9.13"
  }
 },
 "nbformat": 4,
 "nbformat_minor": 5
}
