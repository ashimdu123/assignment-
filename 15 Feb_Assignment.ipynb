{
 "cells": [
  {
   "cell_type": "markdown",
   "id": "3a12474e",
   "metadata": {},
   "source": [
    "# Problem 1:\n",
    "Multiprocessing is a package which allows a Python program to execute multiple processes simultaneously, each with its own interpreter and memory space, without the need for synchronization primitives like locks or semaphores.\n",
    "\n",
    "Multiprocessing is useful for computationally intensive tasks that can be parallelized, such as image and signal processing, machine learning, scientific simulations, and data analysis. By using multiple processes, it is possible to divide the workload among multiple cores or CPUs, reducing the overall execution time of the program."
   ]
  },
  {
   "cell_type": "markdown",
   "id": "0868dba1",
   "metadata": {},
   "source": [
    "# Problem 2:\n",
    "Multiprocessing involves running multiple processes simultaneously, each with its own memory space and interpreter. This means that each process can run on a separate CPU or core, allowing for true parallelism. Processes do not share memory by default.\n",
    "\n",
    "On the other hand, multithreading involves running multiple threads within a single process, sharing the same memory space and interpreter. This means that threads run within the same CPU or core, and concurrency is achieved through time slicing or context switching. Threads can share data and resources, but must be properly synchronized to avoid race conditions and other synchronization issues."
   ]
  },
  {
   "cell_type": "markdown",
   "id": "937971e0-f197-4757-abb6-be3cd44173bb",
   "metadata": {},
   "source": [
    "# Problem 3:"
   ]
  },
  {
   "cell_type": "code",
   "execution_count": 10,
   "id": "f6f0983d-ea05-4ff9-9898-43cc1e9defb4",
   "metadata": {},
   "outputs": [
    {
     "name": "stdout",
     "output_type": "stream",
     "text": [
      "This is my main program\n",
      "9\n"
     ]
    }
   ],
   "source": [
    "import multiprocessing\n",
    "def test(a,b):\n",
    "    print(a**b)\n",
    "    \n",
    "\n",
    "\n",
    "if __name__==\"__main__\":\n",
    "    m = multiprocessing.Process(target = test, args = (3,2))\n",
    "    print('This is my main program')\n",
    "    m.start()\n",
    "    m.join()"
   ]
  },
  {
   "cell_type": "markdown",
   "id": "58c7b6af",
   "metadata": {},
   "source": [
    "# Problem 4:\n",
    "A multiprocessing pool in Python is a mechanism that allows you to execute a function or a set of functions concurrently using multiple processors or cores in a compute.\n",
    "\n",
    "Multiprocessing pool in Python is used to speed up the execution of CPU-bound tasks by utilizing multiple processors or cores of a computer. It allows you to parallelize the execution of a function or a set of functions, and distribute the work across multiple CPUs, which can significantly reduce the overall execution time of your program."
   ]
  },
  {
   "cell_type": "markdown",
   "id": "fd23ae1e-bfcd-42d3-8d4e-0c28abae2f9d",
   "metadata": {},
   "source": [
    "# Problem 5:"
   ]
  },
  {
   "cell_type": "code",
   "execution_count": 3,
   "id": "a954c44e",
   "metadata": {},
   "outputs": [
    {
     "name": "stdout",
     "output_type": "stream",
     "text": [
      "[1, 8, 27, 64, 125]\n"
     ]
    }
   ],
   "source": [
    "# Here is an example how we can create a pool of worker processes using multiprocessing\n",
    "import multiprocessing\n",
    "\n",
    "def cube(x):\n",
    "    return x**3\n",
    "\n",
    "if __name__ == '__main__':\n",
    "    with multiprocessing.Pool(processes = 4) as pool:\n",
    "        result = pool.map(cube, [1,2,3,4,5])\n",
    "    print(result)\n",
    "\n",
    "    \n"
   ]
  },
  {
   "cell_type": "markdown",
   "id": "daf6e9d5-1e04-4f26-9551-b378589d4e74",
   "metadata": {},
   "source": [
    "# Problem 6:"
   ]
  },
  {
   "cell_type": "code",
   "execution_count": 15,
   "id": "1f227bde-347b-4b91-8ba4-0d140aed92a6",
   "metadata": {},
   "outputs": [
    {
     "name": "stdout",
     "output_type": "stream",
     "text": [
      "Number = 0\n",
      "Number = 1\n",
      "Number = 2\n",
      "Number = 3\n"
     ]
    }
   ],
   "source": [
    "# Here is an example to create 4 processes\n",
    "import multiprocessing\n",
    "\n",
    "def test(num):\n",
    "    print(f'Number = {num}')\n",
    "\n",
    "if __name__ == '__main__':\n",
    "    processes = []\n",
    "    for i in range(4):\n",
    "        p = multiprocessing.Process(target=test, args=(i,))\n",
    "        processes.append(p)\n",
    "        p.start()\n",
    "    \n",
    "    for p in processes:\n",
    "        p.join()\n"
   ]
  },
  {
   "cell_type": "code",
   "execution_count": null,
   "id": "9e2bc8ce-3bdf-4eb3-8bee-5a8fe4c3997c",
   "metadata": {},
   "outputs": [],
   "source": []
  }
 ],
 "metadata": {
  "kernelspec": {
   "display_name": "Python 3 (ipykernel)",
   "language": "python",
   "name": "python3"
  },
  "language_info": {
   "codemirror_mode": {
    "name": "ipython",
    "version": 3
   },
   "file_extension": ".py",
   "mimetype": "text/x-python",
   "name": "python",
   "nbconvert_exporter": "python",
   "pygments_lexer": "ipython3",
   "version": "3.10.8"
  }
 },
 "nbformat": 4,
 "nbformat_minor": 5
}
