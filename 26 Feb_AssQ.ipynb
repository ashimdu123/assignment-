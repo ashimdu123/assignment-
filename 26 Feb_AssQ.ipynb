{
 "cells": [
  {
   "cell_type": "markdown",
   "id": "4577cb92",
   "metadata": {},
   "source": [
    "# Problem 1:"
   ]
  },
  {
   "cell_type": "code",
   "execution_count": 2,
   "id": "427c16e9",
   "metadata": {},
   "outputs": [],
   "source": [
    "import numpy as np\n",
    "list_ = [ '1' , '2' , '3' , '4' , '5' ]\n",
    "array_list = np.array(object = list_)"
   ]
  },
  {
   "cell_type": "markdown",
   "id": "232154fd",
   "metadata": {},
   "source": [
    " Yes, the dateypes of the \"list_\" and \"array_list\" are different. "
   ]
  },
  {
   "cell_type": "code",
   "execution_count": 9,
   "id": "7a5f7dc8",
   "metadata": {},
   "outputs": [
    {
     "name": "stdout",
     "output_type": "stream",
     "text": [
      "Datatype of \"list_\" is = <class 'list'>\n",
      "Datatype of \"array_list\" is = <class 'numpy.ndarray'>\n"
     ]
    }
   ],
   "source": [
    "print(f\"Datatype of \\\"list_\\\" is = {type(list_)}\")\n",
    "print(f\"Datatype of \\\"array_list\\\" is = {type(array_list)}\")"
   ]
  },
  {
   "cell_type": "markdown",
   "id": "2cdc8435",
   "metadata": {},
   "source": [
    "# Problem 2:"
   ]
  },
  {
   "cell_type": "code",
   "execution_count": 15,
   "id": "ff99b69a",
   "metadata": {},
   "outputs": [
    {
     "name": "stdout",
     "output_type": "stream",
     "text": [
      "Datatype of element 1 in \"list_\" is <class 'str'>\n",
      "Datatype of element 2 in \"list_\" is <class 'str'>\n",
      "Datatype of element 3 in \"list_\" is <class 'str'>\n",
      "Datatype of element 4 in \"list_\" is <class 'str'>\n",
      "Datatype of element 5 in \"list_\" is <class 'str'>\n"
     ]
    }
   ],
   "source": [
    "for i in list_:\n",
    "    print(f\"Datatype of element {i} in \\\"list_\\\" is {type(i)}\")"
   ]
  },
  {
   "cell_type": "code",
   "execution_count": 16,
   "id": "700faf0a",
   "metadata": {},
   "outputs": [
    {
     "name": "stdout",
     "output_type": "stream",
     "text": [
      "Datatype of element 1 in \"array_list\" is <class 'numpy.str_'>\n",
      "Datatype of element 2 in \"array_list\" is <class 'numpy.str_'>\n",
      "Datatype of element 3 in \"array_list\" is <class 'numpy.str_'>\n",
      "Datatype of element 4 in \"array_list\" is <class 'numpy.str_'>\n",
      "Datatype of element 5 in \"array_list\" is <class 'numpy.str_'>\n"
     ]
    }
   ],
   "source": [
    "for i in array_list:\n",
    "    print(f\"Datatype of element {i} in \\\"array_list\\\" is {type(i)}\")"
   ]
  },
  {
   "cell_type": "markdown",
   "id": "b072e487",
   "metadata": {},
   "source": [
    "# Problem 3:"
   ]
  },
  {
   "cell_type": "code",
   "execution_count": 17,
   "id": "0dd516b3",
   "metadata": {},
   "outputs": [],
   "source": [
    "array_list = np.array(object = list_, dtype = int)"
   ]
  },
  {
   "cell_type": "markdown",
   "id": "fc09d71c",
   "metadata": {},
   "source": [
    "Now the datatype of the elements in \"array_list\" will be different."
   ]
  },
  {
   "cell_type": "code",
   "execution_count": 19,
   "id": "05684525",
   "metadata": {},
   "outputs": [
    {
     "name": "stdout",
     "output_type": "stream",
     "text": [
      "Datatype of element 1 in \"list_\" is <class 'str'>\n",
      "Datatype of element 2 in \"list_\" is <class 'str'>\n",
      "Datatype of element 3 in \"list_\" is <class 'str'>\n",
      "Datatype of element 4 in \"list_\" is <class 'str'>\n",
      "Datatype of element 5 in \"list_\" is <class 'str'>\n"
     ]
    }
   ],
   "source": [
    "for i in list_:\n",
    "    print(f\"Datatype of element {i} in \\\"list_\\\" is {type(i)}\")"
   ]
  },
  {
   "cell_type": "code",
   "execution_count": 20,
   "id": "d9be438d",
   "metadata": {},
   "outputs": [
    {
     "name": "stdout",
     "output_type": "stream",
     "text": [
      "Datatype of element 1 in \"array_list\" is <class 'numpy.int32'>\n",
      "Datatype of element 2 in \"array_list\" is <class 'numpy.int32'>\n",
      "Datatype of element 3 in \"array_list\" is <class 'numpy.int32'>\n",
      "Datatype of element 4 in \"array_list\" is <class 'numpy.int32'>\n",
      "Datatype of element 5 in \"array_list\" is <class 'numpy.int32'>\n"
     ]
    }
   ],
   "source": [
    "for i in array_list:\n",
    "    print(f\"Datatype of element {i} in \\\"array_list\\\" is {type(i)}\")"
   ]
  },
  {
   "cell_type": "markdown",
   "id": "ba717439",
   "metadata": {},
   "source": [
    "# Problem 4:"
   ]
  },
  {
   "cell_type": "code",
   "execution_count": 25,
   "id": "5cde7663",
   "metadata": {},
   "outputs": [],
   "source": [
    "num_list = [ [ 1 , 2 , 3 ] , [ 4 , 5 , 6 ] ]\n",
    "num_array = np.array(object = num_list)"
   ]
  },
  {
   "cell_type": "code",
   "execution_count": 31,
   "id": "c51a1b9a",
   "metadata": {},
   "outputs": [
    {
     "name": "stdout",
     "output_type": "stream",
     "text": [
      "The shape of the given array is (2, 3)\n",
      "The size of the given array is 6\n"
     ]
    }
   ],
   "source": [
    "print(f\"The shape of the given array is {np.shape(num_array)}\")\n",
    "print(f\"The size of the given array is {np.size(num_array)}\")"
   ]
  },
  {
   "cell_type": "markdown",
   "id": "ab7da876",
   "metadata": {},
   "source": [
    "# Problem 5:"
   ]
  },
  {
   "cell_type": "code",
   "execution_count": 38,
   "id": "28adad71",
   "metadata": {},
   "outputs": [
    {
     "name": "stdout",
     "output_type": "stream",
     "text": [
      "[[0. 0. 0.]\n",
      " [0. 0. 0.]\n",
      " [0. 0. 0.]]\n"
     ]
    }
   ],
   "source": [
    "matrix = np.zeros((3,3))\n",
    "print(matrix)"
   ]
  },
  {
   "cell_type": "code",
   "execution_count": 39,
   "id": "ab41cc7e",
   "metadata": {},
   "outputs": [
    {
     "name": "stdout",
     "output_type": "stream",
     "text": [
      "The shape of the matrix is is (3, 3)\n",
      "The size of the matrix is 9\n"
     ]
    }
   ],
   "source": [
    "print(f\"The shape of the matrix is is {np.shape(matrix)}\")\n",
    "print(f\"The size of the matrix is {np.size(matrix)}\")"
   ]
  },
  {
   "cell_type": "markdown",
   "id": "d0f95291",
   "metadata": {},
   "source": [
    "# Problem 6:"
   ]
  },
  {
   "cell_type": "code",
   "execution_count": 43,
   "id": "3efbbba2",
   "metadata": {},
   "outputs": [
    {
     "name": "stdout",
     "output_type": "stream",
     "text": [
      "[[1. 0. 0. 0. 0.]\n",
      " [0. 1. 0. 0. 0.]\n",
      " [0. 0. 1. 0. 0.]\n",
      " [0. 0. 0. 1. 0.]\n",
      " [0. 0. 0. 0. 1.]]\n"
     ]
    }
   ],
   "source": [
    "identity_matrix = np.eye(5)\n",
    "print(identity_matrix)"
   ]
  },
  {
   "cell_type": "code",
   "execution_count": 44,
   "id": "46dd2e73",
   "metadata": {},
   "outputs": [
    {
     "name": "stdout",
     "output_type": "stream",
     "text": [
      "The shape of the identity_matrix is is (5, 5)\n",
      "The size of the identity_matrix is 25\n"
     ]
    }
   ],
   "source": [
    "print(f\"The shape of the identity_matrix is is {np.shape(identity_matrix)}\")\n",
    "print(f\"The size of the identity_matrix is {np.size(identity_matrix)}\")"
   ]
  },
  {
   "cell_type": "code",
   "execution_count": null,
   "id": "0e494324",
   "metadata": {},
   "outputs": [],
   "source": []
  }
 ],
 "metadata": {
  "kernelspec": {
   "display_name": "Python 3 (ipykernel)",
   "language": "python",
   "name": "python3"
  },
  "language_info": {
   "codemirror_mode": {
    "name": "ipython",
    "version": 3
   },
   "file_extension": ".py",
   "mimetype": "text/x-python",
   "name": "python",
   "nbconvert_exporter": "python",
   "pygments_lexer": "ipython3",
   "version": "3.10.9"
  }
 },
 "nbformat": 4,
 "nbformat_minor": 5
}
