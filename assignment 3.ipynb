{
 "cells": [
  {
   "cell_type": "markdown",
   "id": "6be58e40",
   "metadata": {},
   "source": [
    "# Problem 1:\n",
    "    \n",
    "The main characteristics of a tuple is:\n",
    "\n",
    "* They are indexed\n",
    "* Tuples are ordered\n",
    "* They can contain duplicate items\n",
    "* These are not mutable\n",
    "\n",
    "Yes, tuples are immutable."
   ]
  },
  {
   "cell_type": "markdown",
   "id": "1541959c",
   "metadata": {},
   "source": [
    "# Problem 2:\n",
    "Two types of build in methods of a tuple are:\n",
    "- count() : Returns the number of times a specified value occurs in a tuple\n",
    "- index() : Searches the tuple for a specified value and returns the position of where it was found"
   ]
  },
  {
   "cell_type": "code",
   "execution_count": 193,
   "id": "773f599b",
   "metadata": {},
   "outputs": [
    {
     "name": "stdout",
     "output_type": "stream",
     "text": [
      "2 number of times number 10 is present in the tuple\n",
      "Index position of number 3 in the tuple is 5\n"
     ]
    }
   ],
   "source": [
    "# Example of count():\n",
    "tpl = (10, 10, 2, 1, 4, 3, 6)\n",
    "print(f'{tpl.count(10)} number of times number 10 is present in the tuple')\n",
    "\n",
    "\n",
    "#example of index()\n",
    "print(f'Index position of number 3 in the tuple is {tpl.index(3)}')"
   ]
  },
  {
   "cell_type": "markdown",
   "id": "d853fb4d",
   "metadata": {},
   "source": [
    "# Problem 3:\n",
    "\"Set\" datatypes in python do not allow duplicate items.\n"
   ]
  },
  {
   "cell_type": "code",
   "execution_count": 195,
   "id": "321ced0c",
   "metadata": {},
   "outputs": [
    {
     "name": "stdout",
     "output_type": "stream",
     "text": [
      "[1, 2, 3, 4]\n"
     ]
    }
   ],
   "source": [
    "List = [1, 1, 1, 2, 1, 3, 1, 4, 2, 1, 2, 2, 2, 3, 2, 4, 3, 1, 3, 2, 3, 3, 3, 4, 4, 1, 4, 2, 4, 3, 4, 4]\n",
    "list_withou_duplicate = list(set(List))\n",
    "print(list_withou_duplicate)"
   ]
  },
  {
   "cell_type": "markdown",
   "id": "c992776f",
   "metadata": {},
   "source": [
    "# Problem 4:\n",
    "\n",
    "The difference between union() and update() methods in set is that union() method returns a new set which contains all the items from the origirnal set and it does not make any change to original sets where as on the other hand update() methods method updates the current set, by adding items from another set. Below two examples are given"
   ]
  },
  {
   "cell_type": "code",
   "execution_count": 22,
   "id": "f4681419",
   "metadata": {},
   "outputs": [
    {
     "name": "stdout",
     "output_type": "stream",
     "text": [
      "x = {'a', 'b', 'c'}\n",
      "y = {'f', 'd', 'e'}\n",
      "z = {'a', 'e', 'b', 'c', 'd', 'f'}\n"
     ]
    }
   ],
   "source": [
    "# union() method example\n",
    "x = {\"a\", \"b\", \"c\"}\n",
    "y = {\"d\", \"e\", \"f\"}\n",
    "z = x.union(y)\n",
    "print('x =', x)\n",
    "print('y =', y)\n",
    "print('z =', z)"
   ]
  },
  {
   "cell_type": "code",
   "execution_count": 23,
   "id": "fc80f7a1",
   "metadata": {},
   "outputs": [
    {
     "name": "stdout",
     "output_type": "stream",
     "text": [
      "x = {'a', 'e', 'b', 'c', 'd', 'f'}\n",
      "y = {'f', 'd', 'e'}\n"
     ]
    }
   ],
   "source": [
    "# update() method example\n",
    "x = {\"a\", \"b\", \"c\"}\n",
    "y = {\"d\", \"e\", \"f\"}\n",
    "x.update(y)\n",
    "print('x =', x)\n",
    "print('y =', y)\n"
   ]
  },
  {
   "cell_type": "markdown",
   "id": "8b1b3141",
   "metadata": {},
   "source": [
    "# Problem 5:\n",
    "Dictonary is a collection of pairs to store data as keys and values. As of the the latest version of python the dictionaries are ordered. Examples are given below:"
   ]
  },
  {
   "cell_type": "code",
   "execution_count": 26,
   "id": "25bf5307",
   "metadata": {},
   "outputs": [
    {
     "name": "stdout",
     "output_type": "stream",
     "text": [
      "{'a': 50, 'b': 100, 'c': 25}\n"
     ]
    }
   ],
   "source": [
    "# dictionary example\n",
    "my_dict = {\n",
    "  \"a\": 50,\n",
    "  \"b\": 100,\n",
    "  \"c\": 25\n",
    "}\n",
    "print(my_dict)"
   ]
  },
  {
   "cell_type": "markdown",
   "id": "f5f6990e",
   "metadata": {},
   "source": [
    "# Problem 6:\n",
    "Yes, we can create a nested dictionary.\n",
    "For example"
   ]
  },
  {
   "cell_type": "code",
   "execution_count": 27,
   "id": "b934b0b7",
   "metadata": {},
   "outputs": [
    {
     "name": "stdout",
     "output_type": "stream",
     "text": [
      "{'a': {'x': -2, 'y': -5}, 'b': 100, 'c': 25}\n"
     ]
    }
   ],
   "source": [
    "# nested dictionary example\n",
    "my_dict = {\n",
    "  \"a\": {'x': -2, 'y': -5},\n",
    "  \"b\": 100,\n",
    "  \"c\": 25\n",
    "}\n",
    "print(my_dict)"
   ]
  },
  {
   "cell_type": "markdown",
   "id": "002e6502",
   "metadata": {},
   "source": [
    "# Problem 7:"
   ]
  },
  {
   "cell_type": "code",
   "execution_count": 39,
   "id": "5c0d114e",
   "metadata": {},
   "outputs": [
    {
     "name": "stdout",
     "output_type": "stream",
     "text": [
      "{'language': 'Python', 'course': 'Data Science Masters', 'topics': ['Python', 'Machine Learning', 'Deep Learning']}\n"
     ]
    }
   ],
   "source": [
    "dict1 = {'language' : 'Python', 'course': 'Data Science Masters'}\n",
    "dict1.setdefault('topics', [ 'Python', 'Machine Learning','Deep Learning'])\n",
    "print(dict1)"
   ]
  },
  {
   "cell_type": "markdown",
   "id": "30a67d91",
   "metadata": {},
   "source": [
    "# Problem 8:\n",
    "Three view objects in dictionaries in python are: \n",
    "* keys(): it retrieves all the keys of the dictionary \n",
    "* values(): it retrieves all the values of the dictionary \n",
    "* items(): it retrieves all the items of the dictionary "
   ]
  },
  {
   "cell_type": "code",
   "execution_count": 45,
   "id": "209e6b65",
   "metadata": {},
   "outputs": [
    {
     "name": "stdout",
     "output_type": "stream",
     "text": [
      "keys = dict_keys(['Sport', 'Teams'])\n",
      "values = dict_values(['Cricket', ['India', 'Australia', 'England', 'South Africa', 'Sri Lanka', 'New Zealand']])\n",
      "items = dict_items([('Sport', 'Cricket'), ('Teams', ['India', 'Australia', 'England', 'South Africa', 'Sri Lanka', 'New Zealand'])])\n"
     ]
    }
   ],
   "source": [
    "dict1 = {'Sport': 'Cricket' , 'Teams': ['India', 'Australia', 'England', 'South Africa', 'Sri Lanka', 'New Zealand']}\n",
    "\n",
    "print('keys =', dict1.keys())\n",
    "print('values =', dict1.values())\n",
    "print('items =', dict1.items())"
   ]
  },
  {
   "cell_type": "code",
   "execution_count": null,
   "id": "a31643f2",
   "metadata": {},
   "outputs": [],
   "source": []
  }
 ],
 "metadata": {
  "kernelspec": {
   "display_name": "Python 3 (ipykernel)",
   "language": "python",
   "name": "python3"
  },
  "language_info": {
   "codemirror_mode": {
    "name": "ipython",
    "version": 3
   },
   "file_extension": ".py",
   "mimetype": "text/x-python",
   "name": "python",
   "nbconvert_exporter": "python",
   "pygments_lexer": "ipython3",
   "version": "3.9.13"
  }
 },
 "nbformat": 4,
 "nbformat_minor": 5
}
