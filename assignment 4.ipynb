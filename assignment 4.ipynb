{
 "cells": [
  {
   "cell_type": "markdown",
   "id": "c48141eb",
   "metadata": {},
   "source": [
    "# Problem 1:\n",
    "Keyword 'def' is used to create a function."
   ]
  },
  {
   "cell_type": "code",
   "execution_count": 15,
   "id": "45a5d826",
   "metadata": {},
   "outputs": [
    {
     "data": {
      "text/plain": [
       "[1, 3, 5, 7, 9, 11, 13, 15, 17, 19, 21, 23, 25]"
      ]
     },
     "execution_count": 15,
     "metadata": {},
     "output_type": "execute_result"
    }
   ],
   "source": [
    "def func(n1, n2):\n",
    "    lst = []\n",
    "    for i in range(n1, n2+1):\n",
    "        if i % 2 != 0:\n",
    "            lst.append(i)\n",
    "    return lst\n",
    "# The list of odd number between 1 and 25 will be\n",
    "func(1,25)"
   ]
  },
  {
   "cell_type": "markdown",
   "id": "78da57dd",
   "metadata": {},
   "source": [
    "# Problem 2:\n",
    "We can use \"\\*args\" and \"\\*\\*kwargs\" when the number of arguments to pass is unknown. Specifically, when we pass non keyword arguments we use \"\\*args\" and with keyword arguments we use \"\\**kwargs\"."
   ]
  },
  {
   "cell_type": "code",
   "execution_count": 74,
   "id": "ee5e9a2f",
   "metadata": {},
   "outputs": [
    {
     "data": {
      "text/plain": [
       "10.5"
      ]
     },
     "execution_count": 74,
     "metadata": {},
     "output_type": "execute_result"
    }
   ],
   "source": [
    "# *args example\n",
    "def sum_list(*args):\n",
    "    total_sum = 0\n",
    "    for i in args:\n",
    "        total_sum = total_sum + i\n",
    "    return total_sum\n",
    "\n",
    "# this function will give the sum of any given number\n",
    "sum_list(1,2,3,4,5.5, -5)"
   ]
  },
  {
   "cell_type": "code",
   "execution_count": 75,
   "id": "9990d173",
   "metadata": {},
   "outputs": [
    {
     "name": "stdout",
     "output_type": "stream",
     "text": [
      "a has number value 1\n",
      "b has list value [2, 5]\n",
      "c has string value aju\n"
     ]
    }
   ],
   "source": [
    "# **kwargs example\n",
    "def test2(**kwargs):\n",
    "    for i in kwargs.keys():\n",
    "        if type(kwargs[i]) == int:\n",
    "            print(f\"{i} has number value {kwargs[i]}\")\n",
    "        elif type(kwargs[i]) == str:\n",
    "            print(f\"{i} has string value {kwargs[i]}\")\n",
    "        elif type(kwargs[i]) == list:\n",
    "            print(f\"{i} has list value {kwargs[i]}\")\n",
    "            \n",
    "test2(a = 1, b = [2,5], c = 'aju')"
   ]
  },
  {
   "cell_type": "markdown",
   "id": "c424b58f",
   "metadata": {},
   "source": [
    "# Problem 3:\n",
    "Iterator in Python is an object which is used to iterate over iterable objects such as lists, tuples etc.\n",
    "The method to initalise the iterator object is iter() and the method used for iteration is next()."
   ]
  },
  {
   "cell_type": "code",
   "execution_count": 80,
   "id": "3959caf9",
   "metadata": {},
   "outputs": [
    {
     "name": "stdout",
     "output_type": "stream",
     "text": [
      "2\n",
      "4\n",
      "6\n",
      "8\n",
      "10\n"
     ]
    }
   ],
   "source": [
    "lst =  [2, 4, 6, 8, 10, 12, 14, 16, 18, 20]\n",
    "lst_mod = iter(lst)\n",
    "\n",
    "for _ in range(5):\n",
    "    print(next(lst_mod))"
   ]
  },
  {
   "cell_type": "markdown",
   "id": "055f0217",
   "metadata": {},
   "source": [
    "# Problem 4:\n",
    "Generator in python is a special type of function which does not return a single value, instead, it returns an iterator object with a sequence of values. Generators are useful to produce a large sequence of values and it does not occupy lot of memory at once.\n",
    "\n",
    "Yield keyword can be used in a function just like return keyword but unlike return we should use yield when we want to iterate over a sequence, but don’t want to store the entire sequence in memory."
   ]
  },
  {
   "cell_type": "code",
   "execution_count": 115,
   "id": "9978972c",
   "metadata": {},
   "outputs": [
    {
     "name": "stdout",
     "output_type": "stream",
     "text": [
      "0\n",
      "1\n",
      "4\n",
      "9\n",
      "16\n",
      "25\n",
      "36\n",
      "49\n",
      "64\n",
      "81\n"
     ]
    }
   ],
   "source": [
    "# Example of generator function\n",
    "\n",
    "def gen_func(n):\n",
    "    for i in range(n):\n",
    "        yield i**2\n",
    "# This function will generate square of fist positive n integer number        \n",
    "for i in gen_func(10):\n",
    "    print(i)\n",
    "    "
   ]
  },
  {
   "cell_type": "markdown",
   "id": "e0748bd5",
   "metadata": {},
   "source": [
    "# Problem 5:\n"
   ]
  },
  {
   "cell_type": "code",
   "execution_count": 211,
   "id": "cb71638b",
   "metadata": {},
   "outputs": [],
   "source": [
    "def prime_number_gen(n):\n",
    "    for j in range(n):\n",
    "        div = 0\n",
    "        for i in range(1, j):\n",
    "            if j % i == 0:\n",
    "                div = div + 1\n",
    "        if div == 1:\n",
    "            yield j"
   ]
  },
  {
   "cell_type": "code",
   "execution_count": 212,
   "id": "72c8b13b",
   "metadata": {},
   "outputs": [
    {
     "name": "stdout",
     "output_type": "stream",
     "text": [
      "2,3,5,7,11,13,17,19,23,29,31,37,41,43,47,53,59,61,67,71,73,79,83,89,97,101,103,107,109,113,127,131,137,139,149,151,157,163,167,173,179,181,191,193,197,199,211,223,227,229,233,239,241,251,257,263,269,271,277,281,283,293,307,311,313,317,331,337,347,349,353,359,367,373,379,383,389,397,401,409,419,421,431,433,439,443,449,457,461,463,467,479,487,491,499,503,509,521,523,541,547,557,563,569,571,577,587,593,599,601,607,613,617,619,631,641,643,647,653,659,661,673,677,683,691,701,709,719,727,733,739,743,751,757,761,769,773,787,797,809,811,821,823,827,829,839,853,857,859,863,877,881,883,887,907,911,919,929,937,941,947,953,967,971,977,983,991,997,"
     ]
    }
   ],
   "source": [
    "# all the prime number less then 1000 \n",
    "for i in prime_number_gen(1000):\n",
    "    print(i, end =',')"
   ]
  },
  {
   "cell_type": "code",
   "execution_count": 213,
   "id": "d8b9e781",
   "metadata": {},
   "outputs": [
    {
     "name": "stdout",
     "output_type": "stream",
     "text": [
      "2\n",
      "3\n",
      "5\n",
      "7\n",
      "11\n",
      "13\n",
      "17\n",
      "19\n",
      "23\n",
      "29\n",
      "31\n",
      "37\n",
      "41\n",
      "43\n",
      "47\n",
      "53\n",
      "59\n",
      "61\n",
      "67\n",
      "71\n"
     ]
    }
   ],
   "source": [
    "# using next() method\n",
    "prime_number20 = iter(prime_number_gen(1000))\n",
    "for i in range(20):\n",
    "    print(next(prime_number20))"
   ]
  },
  {
   "cell_type": "code",
   "execution_count": null,
   "id": "db7e73d4",
   "metadata": {},
   "outputs": [],
   "source": []
  },
  {
   "cell_type": "code",
   "execution_count": null,
   "id": "501dc2a0",
   "metadata": {},
   "outputs": [],
   "source": []
  }
 ],
 "metadata": {
  "kernelspec": {
   "display_name": "Python 3 (ipykernel)",
   "language": "python",
   "name": "python3"
  },
  "language_info": {
   "codemirror_mode": {
    "name": "ipython",
    "version": 3
   },
   "file_extension": ".py",
   "mimetype": "text/x-python",
   "name": "python",
   "nbconvert_exporter": "python",
   "pygments_lexer": "ipython3",
   "version": "3.9.13"
  }
 },
 "nbformat": 4,
 "nbformat_minor": 5
}
