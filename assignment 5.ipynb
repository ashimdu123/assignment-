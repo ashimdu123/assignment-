{
 "cells": [
  {
   "cell_type": "markdown",
   "id": "08a21f00",
   "metadata": {},
   "source": [
    "# Problem 1:"
   ]
  },
  {
   "cell_type": "code",
   "execution_count": 122,
   "id": "e96ca064",
   "metadata": {},
   "outputs": [
    {
     "name": "stdout",
     "output_type": "stream",
     "text": [
      "[('Virat Kohli', 24936), ('Jack Kallis', 25534), ('Ricky Ponting', 27483), ('Sachin Tendulkar', 34357)]\n"
     ]
    }
   ],
   "source": [
    "lst = [('Sachin Tendulkar', 34357), ('Ricky Ponting', 27483), ('Jack Kallis', 25534), ('Virat Kohli', 24936)]\n",
    "lst.sort(key = lambda x: x[1])\n",
    "print(lst)"
   ]
  },
  {
   "cell_type": "markdown",
   "id": "47bcd055",
   "metadata": {},
   "source": [
    "# Problem 2:"
   ]
  },
  {
   "cell_type": "code",
   "execution_count": 13,
   "id": "15648882",
   "metadata": {},
   "outputs": [],
   "source": [
    "#given list\n",
    "lst = [1, 2, 3, 4, 5, 6, 7, 8, 9, 10]"
   ]
  },
  {
   "cell_type": "code",
   "execution_count": 14,
   "id": "a39da5df",
   "metadata": {},
   "outputs": [
    {
     "data": {
      "text/plain": [
       "[1, 4, 9, 16, 25, 36, 49, 64, 81, 100]"
      ]
     },
     "execution_count": 14,
     "metadata": {},
     "output_type": "execute_result"
    }
   ],
   "source": [
    "# using lambda\n",
    "func = lambda n: n**2\n",
    "lst_new = []\n",
    "for i in lst:\n",
    "    lst_new.append(func(i))\n",
    "lst_new"
   ]
  },
  {
   "cell_type": "code",
   "execution_count": 15,
   "id": "80b113c0",
   "metadata": {},
   "outputs": [
    {
     "data": {
      "text/plain": [
       "[1, 4, 9, 16, 25, 36, 49, 64, 81, 100]"
      ]
     },
     "execution_count": 15,
     "metadata": {},
     "output_type": "execute_result"
    }
   ],
   "source": [
    "# using map\n",
    "list(map(lambda n: n**2, lst))"
   ]
  },
  {
   "cell_type": "markdown",
   "id": "ab453b51",
   "metadata": {},
   "source": [
    "# Problem 3:"
   ]
  },
  {
   "cell_type": "code",
   "execution_count": 17,
   "id": "96b9edbb",
   "metadata": {},
   "outputs": [
    {
     "data": {
      "text/plain": [
       "('1', '2', '3', '4', '5', '6', '7', '8', '9', '10')"
      ]
     },
     "execution_count": 17,
     "metadata": {},
     "output_type": "execute_result"
    }
   ],
   "source": [
    "string =  [1, 2, 3, 4, 5, 6, 7, 8, 9, 10]\n",
    "tuple(map(lambda n: str(n), string))"
   ]
  },
  {
   "cell_type": "markdown",
   "id": "73d32507",
   "metadata": {},
   "source": [
    "# Problem 4:"
   ]
  },
  {
   "cell_type": "code",
   "execution_count": 37,
   "id": "f30f5a69",
   "metadata": {},
   "outputs": [
    {
     "data": {
      "text/plain": [
       "15511210043330985984000000"
      ]
     },
     "execution_count": 37,
     "metadata": {},
     "output_type": "execute_result"
    }
   ],
   "source": [
    "from functools import reduce\n",
    "lst = [*range(1, 26)]\n",
    "reduce(lambda x, y : x*y, lst)"
   ]
  },
  {
   "cell_type": "markdown",
   "id": "977e5359",
   "metadata": {},
   "source": [
    "# Problem 5:"
   ]
  },
  {
   "cell_type": "code",
   "execution_count": 43,
   "id": "a21b19a7",
   "metadata": {},
   "outputs": [],
   "source": [
    "lst = [2, 3, 6, 9, 27, 60, 90, 120, 55, 46]"
   ]
  },
  {
   "cell_type": "code",
   "execution_count": 47,
   "id": "1f0da05b",
   "metadata": {},
   "outputs": [
    {
     "data": {
      "text/plain": [
       "[6, 60, 90, 120]"
      ]
     },
     "execution_count": 47,
     "metadata": {},
     "output_type": "execute_result"
    }
   ],
   "source": [
    "# all the number that are divisible by 2 and 3\n",
    "list(filter(lambda x: x % 2 == 0 and x % 3 == 0, lst))"
   ]
  },
  {
   "cell_type": "markdown",
   "id": "a0c72756",
   "metadata": {},
   "source": [
    "# Problem 6:"
   ]
  },
  {
   "cell_type": "code",
   "execution_count": 64,
   "id": "568da04f",
   "metadata": {},
   "outputs": [],
   "source": [
    "lst = ['python', 'php', 'aba', 'radar', 'level']"
   ]
  },
  {
   "cell_type": "code",
   "execution_count": 65,
   "id": "2a809ea2",
   "metadata": {},
   "outputs": [
    {
     "name": "stdout",
     "output_type": "stream",
     "text": [
      "Palindromes from the given list are ['php', 'aba', 'radar', 'level']\n"
     ]
    }
   ],
   "source": [
    "result = list(filter(lambda x: x[::-1] == x, lst))\n",
    "print(f'Palindromes from the given list are {result}')"
   ]
  }
 ],
 "metadata": {
  "kernelspec": {
   "display_name": "Python 3 (ipykernel)",
   "language": "python",
   "name": "python3"
  },
  "language_info": {
   "codemirror_mode": {
    "name": "ipython",
    "version": 3
   },
   "file_extension": ".py",
   "mimetype": "text/x-python",
   "name": "python",
   "nbconvert_exporter": "python",
   "pygments_lexer": "ipython3",
   "version": "3.9.13"
  }
 },
 "nbformat": 4,
 "nbformat_minor": 5
}
